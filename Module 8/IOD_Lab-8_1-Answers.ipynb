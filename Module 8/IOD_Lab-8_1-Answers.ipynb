{
 "cells": [
  {
   "cell_type": "markdown",
   "metadata": {
    "id": "xkKr644DL-tU"
   },
   "source": [
    "<div>\n",
    "<img src=https://www.institutedata.com/wp-content/uploads/2019/10/iod_h_tp_primary_c.svg width=\"300\">\n",
    "</div>"
   ]
  },
  {
   "cell_type": "markdown",
   "metadata": {
    "id": "9g6qykXJL-tX"
   },
   "source": [
    "# Lab 8.1: Regular Expressions\n",
    "\n",
    "INSTRUCTIONS:\n",
    "- Read the guides and [hints](https://www.w3schools.com/python/python_regex.asp), then create the necessary analysis and code to find an answer and conclusion for the tasks below.\n",
    "- Complete `IOD Demo-8_2` first"
   ]
  },
  {
   "cell_type": "code",
   "execution_count": 1,
   "metadata": {
    "colab": {
     "background_save": true
    },
    "id": "JnKwEY-EL-ta"
   },
   "outputs": [],
   "source": [
    "import re"
   ]
  },
  {
   "cell_type": "markdown",
   "metadata": {
    "id": "KPLQxm2SL-tj"
   },
   "source": [
    "## 1. Extract the `country code`, `area code` and `local phone number` from the following phone numbers\n",
    "**Hint**: Use groups with `()`. Assume they have the same form as shown."
   ]
  },
  {
   "cell_type": "code",
   "execution_count": 2,
   "metadata": {
    "id": "BqCoNp9jL-tl"
   },
   "outputs": [
    {
     "ename": "AssertionError",
     "evalue": "Not equal!",
     "output_type": "error",
     "traceback": [
      "\u001b[1;31m---------------------------------------------------------------------------\u001b[0m",
      "\u001b[1;31mAssertionError\u001b[0m                            Traceback (most recent call last)",
      "\u001b[1;32m~\\AppData\\Local\\Temp\\ipykernel_21280\\1347975581.py\u001b[0m in \u001b[0;36m<module>\u001b[1;34m\u001b[0m\n\u001b[0;32m     14\u001b[0m \u001b[0moutput\u001b[0m \u001b[1;33m=\u001b[0m \u001b[0mre\u001b[0m\u001b[1;33m.\u001b[0m\u001b[0mfindall\u001b[0m\u001b[1;33m(\u001b[0m\u001b[0mpattern\u001b[0m\u001b[1;33m,\u001b[0m \u001b[0mphonenumbers\u001b[0m\u001b[1;33m)\u001b[0m\u001b[1;33m\u001b[0m\u001b[1;33m\u001b[0m\u001b[0m\n\u001b[0;32m     15\u001b[0m \u001b[1;33m\u001b[0m\u001b[0m\n\u001b[1;32m---> 16\u001b[1;33m \u001b[1;32massert\u001b[0m \u001b[0moutput\u001b[0m \u001b[1;33m==\u001b[0m \u001b[0mdesired_output\u001b[0m\u001b[1;33m,\u001b[0m \u001b[1;34m'Not equal!'\u001b[0m\u001b[1;33m\u001b[0m\u001b[1;33m\u001b[0m\u001b[0m\n\u001b[0m",
      "\u001b[1;31mAssertionError\u001b[0m: Not equal!"
     ]
    }
   ],
   "source": [
    "phonenumbers = '''+61 (02) 5443 5434\n",
    "+64 (09) 888 7766\n",
    "+1 (655) 432 4345'''\n",
    "\n",
    "desired_output = [\n",
    "    ('61', '02', '5443 5434'),\n",
    "    ('64', '09', '888 7766'),\n",
    "    ('1', '655', '432 4345')\n",
    "]\n",
    "\n",
    "pattern = r'\\+(\\d+) \\((\\d+)\\) (\\d+ \\d+)'\n",
    "pattern = r'\\+(\\d+) \\((\\d+)\\) ([\\d\\s]+)'\n",
    "\n",
    "output = re.findall(pattern, phonenumbers)\n",
    "\n",
    "assert output == desired_output, 'Not equal!'"
   ]
  },
  {
   "cell_type": "code",
   "execution_count": 3,
   "metadata": {},
   "outputs": [
    {
     "data": {
      "text/plain": [
       "[('61', '02', '5443 5434\\n'),\n",
       " ('64', '09', '888 7766\\n'),\n",
       " ('1', '655', '432 4345')]"
      ]
     },
     "execution_count": 3,
     "metadata": {},
     "output_type": "execute_result"
    }
   ],
   "source": [
    "output"
   ]
  },
  {
   "cell_type": "markdown",
   "metadata": {
    "id": "FrpTl5k8L-tq"
   },
   "source": [
    "## 2. Retrieve all the email addresses from the following text\n",
    "Assume each email address has the form `id@domain.suffix`."
   ]
  },
  {
   "cell_type": "code",
   "execution_count": null,
   "metadata": {
    "id": "3WfDfuN6L-tr"
   },
   "outputs": [],
   "source": [
    "text = '''Feel free to contact my managers p1@institutedata.com, p_2@domain2.com and p3@institutedata.com\n",
    "for further details.'''\n",
    "\n",
    "desired_output = [\n",
    "    'p1@institutedata.com', 'p_2@domain2.com', 'p3@institutedata.com'\n",
    "]\n",
    "\n",
    "pattern = r'\\w+@\\w+\\.\\w+'\n",
    "\n",
    "output = re.findall(pattern, text)\n",
    "\n",
    "assert output == desired_output, 'Not equal!'"
   ]
  },
  {
   "cell_type": "markdown",
   "metadata": {
    "id": "Ud6omzt0L-tv"
   },
   "source": [
    "## 3. Split the following text into words\n",
    "Add delimiters into the pattern as needed."
   ]
  },
  {
   "cell_type": "code",
   "execution_count": null,
   "metadata": {
    "id": "oOKdzlhYL-tw"
   },
   "outputs": [],
   "source": [
    "text = 'An, unusual   and; poorly formatted_piece of text'\n",
    "\n",
    "desired_output = 'An unusual and poorly formatted piece of text'\n",
    "\n",
    "pattern = r'[,;\\s_]+'\n",
    "\n",
    "output = ' '.join(re.split(pattern, text))\n",
    "\n",
    "assert output == desired_output, 'Not equal!'"
   ]
  },
  {
   "cell_type": "markdown",
   "metadata": {
    "id": "81L2SRjEL-t0"
   },
   "source": [
    "## 4. Filter the following tweet so that it contains only the message\n",
    "In other words, remove URLs, RTs, CCs, hashtags, mentions, punctuations."
   ]
  },
  {
   "cell_type": "code",
   "execution_count": null,
   "metadata": {
    "id": "ENU4hR7vL-t0"
   },
   "outputs": [],
   "source": [
    "tweet = 'Hello everyone! RT @MaskedAvenger: Did you see what I got up to earlier? http://abc.me/ref cc: @Mom_Judy #stayfit'\n",
    "\n",
    "desired_output = 'Hello everyone Did you see what I got up to earlier'\n",
    "\n",
    "def clean_tweet(tweet):\n",
    "    # remove URLs\n",
    "    tweet = re.sub(r'http\\S+\\s*', '', tweet)\n",
    "    # remove RT and cc\n",
    "    tweet = re.sub(r'RT|cc', '', tweet)\n",
    "    # remove hashtags\n",
    "    tweet = re.sub(r'#\\S+', '', tweet)\n",
    "    # remove mentions\n",
    "    tweet = re.sub(r'@\\S+', '', tweet)\n",
    "    # remove punctuations\n",
    "    tweet = re.sub('[!\"#\\$%&\\'()*+,-./:;<=>?@[\\\\]^_`{|}~]', '', tweet)\n",
    "    # remove extra whitespace\n",
    "    tweet = re.sub(r'\\s+', ' ', tweet)\n",
    "    # remove extra whitespace\n",
    "    tweet = re.sub(r'\\s+$', '', tweet)\n",
    "\n",
    "    return tweet\n",
    "\n",
    "output = clean_tweet(tweet)\n",
    "\n",
    "assert output == desired_output, 'Not equal!'"
   ]
  },
  {
   "cell_type": "markdown",
   "metadata": {
    "id": "RERADKgNFq9T"
   },
   "source": [
    "\n",
    "\n",
    "---\n",
    "\n",
    "\n",
    "\n",
    "---\n",
    "\n",
    "\n",
    "\n",
    "> > > > > > > > > © 2023 Institute of Data\n",
    "\n",
    "\n",
    "---\n",
    "\n",
    "\n",
    "\n",
    "---\n",
    "\n",
    "\n",
    "\n"
   ]
  }
 ],
 "metadata": {
  "colab": {
   "name": "",
   "version": ""
  },
  "kernelspec": {
   "display_name": "Python 3 (ipykernel)",
   "language": "python",
   "name": "python3"
  },
  "language_info": {
   "codemirror_mode": {
    "name": "ipython",
    "version": 3
   },
   "file_extension": ".py",
   "mimetype": "text/x-python",
   "name": "python",
   "nbconvert_exporter": "python",
   "pygments_lexer": "ipython3",
   "version": "3.7.16"
  }
 },
 "nbformat": 4,
 "nbformat_minor": 4
}
