{
 "cells": [
  {
   "cell_type": "code",
   "execution_count": 1,
   "id": "5c913364-8d67-4cd0-9545-212e7d793d9c",
   "metadata": {},
   "outputs": [
    {
     "name": "stderr",
     "output_type": "stream",
     "text": [
      "\n",
      "Bad key \"text.kerning_factor\" on line 4 in\n",
      "C:\\Users\\britn\\anaconda3\\envs\\iod\\lib\\site-packages\\matplotlib\\mpl-data\\stylelib\\_classic_test_patch.mplstyle.\n",
      "You probably need to get an updated matplotlibrc file from\n",
      "https://github.com/matplotlib/matplotlib/blob/v3.1.3/matplotlibrc.template\n",
      "or from the matplotlib source distribution\n"
     ]
    }
   ],
   "source": [
    "import pandas as pd\n",
    "import numpy as np\n",
    "from scipy import stats\n",
    "from matplotlib import pyplot as plt\n",
    "import math\n",
    "import seaborn as sns"
   ]
  },
  {
   "cell_type": "markdown",
   "id": "21c2fbb5-fa37-41b7-a5d6-d9d2b64bd191",
   "metadata": {},
   "source": [
    "## Laptop Price Prediction using specifications 💻\n",
    "Predict the prices of laptop using different features and specifications."
   ]
  },
  {
   "cell_type": "markdown",
   "id": "5d8b214d-e2c5-47dd-a554-670605278231",
   "metadata": {},
   "source": [
    "Several different factors can affect laptop computer prices. These factors include the brand of computer and the number of options and add-ons included in the computer package. \n",
    "\n",
    "In addition, the amount of memory and the speed of the processor can also affect pricing. Though less common, some consumers spend additional money to purchase a computer based on the overall “look” and design of the system."
   ]
  },
  {
   "cell_type": "markdown",
   "id": "1d9906bb-4902-4c81-9165-54a3b84f2a60",
   "metadata": {},
   "source": [
    "- name brand computers are more expensive than generic versions. \n",
    "\n",
    "- this price increase often has more to do with name recognition than any actual superiority of the product. \n",
    "\n",
    "- one major difference between name brand and generic systems is that in most cases, name brand computers offer better warranties than generic versions. \n",
    "\n",
    "- having the option of returning a computer that is malfunctioning is often enough of an incentive to encourage many consumers to spend more money.\n",
    "\n",
    "- functionality is an important factor in determining laptop computer prices. A computer with more memory often performs better for a longer time than a computer with less memory. \n",
    "\n",
    "- In addition, hard drive space is also crucial, and the size of the hard drive usually affects pricing. \n",
    "\n",
    "- Many consumers may also look for digital video drivers and other types of recording devices that may affect the laptop computer prices.\n",
    "\n",
    "- Most computers come with some software pre-installed. \n",
    "\n",
    "- In most cases, the more software that is installed on a computer, the more expensive it is. \n",
    "\n",
    "- This is especially true if the installed programs are from well-established and recognizable software publishers. \n",
    "\n",
    "- Those considering purchasing a new laptop computer should be aware that many of the pre-installed programs may be trial versions only, and will expire within a certain time period. \n",
    "\n",
    "- In order to keep the programs, a code will need to be purchased, and then a permanent version of the software can be downloaded.\n",
    "\n",
    "- Many consumers who are purchasing a new computer are buying an entire package. \n",
    "\n",
    "- In addition to the computer itself, these systems typically include a monitor, keyboard, and mouse. \n",
    "\n",
    "- Some packages may even include a printer or digital camera. The number of extras included in a computer package usually affects laptop computer prices.\n",
    "\n",
    "- Some industry leaders in computer manufacturing make it a selling point to offer computers in sleek styling and in a variety of colors. They may also offer unusual or contemporary system design. \n",
    "\n",
    "- Though this is less important to many consumers, for those who do value “looks,” this type of system may be well worth the extra cost."
   ]
  },
  {
   "cell_type": "code",
   "execution_count": 2,
   "id": "6587ab0e-9b08-42e4-8682-974e44313a83",
   "metadata": {},
   "outputs": [],
   "source": [
    "df = pd.read_csv('../DATA/laptops_test.csv')"
   ]
  },
  {
   "cell_type": "code",
   "execution_count": 3,
   "id": "0a5a7e89-d785-46db-8e56-191f84a648a2",
   "metadata": {},
   "outputs": [
    {
     "data": {
      "text/html": [
       "<div>\n",
       "<style scoped>\n",
       "    .dataframe tbody tr th:only-of-type {\n",
       "        vertical-align: middle;\n",
       "    }\n",
       "\n",
       "    .dataframe tbody tr th {\n",
       "        vertical-align: top;\n",
       "    }\n",
       "\n",
       "    .dataframe thead th {\n",
       "        text-align: right;\n",
       "    }\n",
       "</style>\n",
       "<table border=\"1\" class=\"dataframe\">\n",
       "  <thead>\n",
       "    <tr style=\"text-align: right;\">\n",
       "      <th></th>\n",
       "      <th>Manufacturer</th>\n",
       "      <th>Model Name</th>\n",
       "      <th>Category</th>\n",
       "      <th>Screen Size</th>\n",
       "      <th>Screen</th>\n",
       "      <th>CPU</th>\n",
       "      <th>RAM</th>\n",
       "      <th>Storage</th>\n",
       "      <th>GPU</th>\n",
       "      <th>Operating System</th>\n",
       "      <th>Operating System Version</th>\n",
       "      <th>Weight</th>\n",
       "      <th>Price</th>\n",
       "    </tr>\n",
       "  </thead>\n",
       "  <tbody>\n",
       "    <tr>\n",
       "      <th>0</th>\n",
       "      <td>HP</td>\n",
       "      <td>15-bs053od (i7-7500U/6GB/1TB/W10)</td>\n",
       "      <td>Notebook</td>\n",
       "      <td>15.6\"</td>\n",
       "      <td>1366x768</td>\n",
       "      <td>Intel Core i7 7500U 2.7GHz</td>\n",
       "      <td>6GB</td>\n",
       "      <td>1TB HDD</td>\n",
       "      <td>Intel HD Graphics 620</td>\n",
       "      <td>Windows</td>\n",
       "      <td>10</td>\n",
       "      <td>2.04kg</td>\n",
       "      <td>5148468.0</td>\n",
       "    </tr>\n",
       "    <tr>\n",
       "      <th>1</th>\n",
       "      <td>Asus</td>\n",
       "      <td>Rog GL753VE-DS74</td>\n",
       "      <td>Gaming</td>\n",
       "      <td>17.3\"</td>\n",
       "      <td>Full HD 1920x1080</td>\n",
       "      <td>Intel Core i7 7700HQ 2.8GHz</td>\n",
       "      <td>16GB</td>\n",
       "      <td>256GB SSD +  1TB HDD</td>\n",
       "      <td>Nvidia GeForce GTX 1050 Ti</td>\n",
       "      <td>Windows</td>\n",
       "      <td>10</td>\n",
       "      <td>2.99kg</td>\n",
       "      <td>15552108.0</td>\n",
       "    </tr>\n",
       "    <tr>\n",
       "      <th>2</th>\n",
       "      <td>Dell</td>\n",
       "      <td>Inspiron 7579</td>\n",
       "      <td>2 in 1 Convertible</td>\n",
       "      <td>15.6\"</td>\n",
       "      <td>IPS Panel Full HD / Touchscreen 1920x1080</td>\n",
       "      <td>Intel Core i7 7500U 2.7GHz</td>\n",
       "      <td>12GB</td>\n",
       "      <td>512GB SSD</td>\n",
       "      <td>Intel HD Graphics 620</td>\n",
       "      <td>Windows</td>\n",
       "      <td>10</td>\n",
       "      <td>2.19kg</td>\n",
       "      <td>11550708.0</td>\n",
       "    </tr>\n",
       "    <tr>\n",
       "      <th>3</th>\n",
       "      <td>Toshiba</td>\n",
       "      <td>Portege Z30-C-1CV</td>\n",
       "      <td>Notebook</td>\n",
       "      <td>13.3\"</td>\n",
       "      <td>Full HD 1920x1080</td>\n",
       "      <td>Intel Core i5 6200U 2.3GHz</td>\n",
       "      <td>4GB</td>\n",
       "      <td>128GB SSD</td>\n",
       "      <td>Intel HD Graphics 520</td>\n",
       "      <td>Windows</td>\n",
       "      <td>7</td>\n",
       "      <td>1.2kg</td>\n",
       "      <td>10625940.0</td>\n",
       "    </tr>\n",
       "    <tr>\n",
       "      <th>4</th>\n",
       "      <td>Lenovo</td>\n",
       "      <td>IdeaPad 320-15ABR</td>\n",
       "      <td>Notebook</td>\n",
       "      <td>15.6\"</td>\n",
       "      <td>Full HD 1920x1080</td>\n",
       "      <td>AMD A12-Series 9720P 3.6GHz</td>\n",
       "      <td>6GB</td>\n",
       "      <td>256GB SSD</td>\n",
       "      <td>AMD Radeon 530</td>\n",
       "      <td>Windows</td>\n",
       "      <td>10</td>\n",
       "      <td>2.2kg</td>\n",
       "      <td>4881708.0</td>\n",
       "    </tr>\n",
       "    <tr>\n",
       "      <th>...</th>\n",
       "      <td>...</td>\n",
       "      <td>...</td>\n",
       "      <td>...</td>\n",
       "      <td>...</td>\n",
       "      <td>...</td>\n",
       "      <td>...</td>\n",
       "      <td>...</td>\n",
       "      <td>...</td>\n",
       "      <td>...</td>\n",
       "      <td>...</td>\n",
       "      <td>...</td>\n",
       "      <td>...</td>\n",
       "      <td>...</td>\n",
       "    </tr>\n",
       "    <tr>\n",
       "      <th>320</th>\n",
       "      <td>Lenovo</td>\n",
       "      <td>Yoga 500-14ISK</td>\n",
       "      <td>2 in 1 Convertible</td>\n",
       "      <td>14.0\"</td>\n",
       "      <td>IPS Panel Full HD / Touchscreen 1920x1080</td>\n",
       "      <td>Intel Core i7 6500U 2.5GHz</td>\n",
       "      <td>4GB</td>\n",
       "      <td>128GB SSD</td>\n",
       "      <td>Intel HD Graphics 520</td>\n",
       "      <td>Windows</td>\n",
       "      <td>10</td>\n",
       "      <td>1.8kg</td>\n",
       "      <td>5673096.0</td>\n",
       "    </tr>\n",
       "    <tr>\n",
       "      <th>321</th>\n",
       "      <td>Lenovo</td>\n",
       "      <td>Yoga 900-13ISK</td>\n",
       "      <td>2 in 1 Convertible</td>\n",
       "      <td>13.3\"</td>\n",
       "      <td>IPS Panel Quad HD+ / Touchscreen 3200x1800</td>\n",
       "      <td>Intel Core i7 6500U 2.5GHz</td>\n",
       "      <td>16GB</td>\n",
       "      <td>512GB SSD</td>\n",
       "      <td>Intel HD Graphics 520</td>\n",
       "      <td>Windows</td>\n",
       "      <td>10</td>\n",
       "      <td>1.3kg</td>\n",
       "      <td>13329108.0</td>\n",
       "    </tr>\n",
       "    <tr>\n",
       "      <th>322</th>\n",
       "      <td>Lenovo</td>\n",
       "      <td>IdeaPad 100S-14IBR</td>\n",
       "      <td>Notebook</td>\n",
       "      <td>14.0\"</td>\n",
       "      <td>1366x768</td>\n",
       "      <td>Intel Celeron Dual Core N3050 1.6GHz</td>\n",
       "      <td>2GB</td>\n",
       "      <td>64GB Flash Storage</td>\n",
       "      <td>Intel HD Graphics</td>\n",
       "      <td>Windows</td>\n",
       "      <td>10</td>\n",
       "      <td>1.5kg</td>\n",
       "      <td>2036268.0</td>\n",
       "    </tr>\n",
       "    <tr>\n",
       "      <th>323</th>\n",
       "      <td>HP</td>\n",
       "      <td>15-AC110nv (i7-6500U/6GB/1TB/Radeon</td>\n",
       "      <td>Notebook</td>\n",
       "      <td>15.6\"</td>\n",
       "      <td>1366x768</td>\n",
       "      <td>Intel Core i7 6500U 2.5GHz</td>\n",
       "      <td>6GB</td>\n",
       "      <td>1TB HDD</td>\n",
       "      <td>AMD Radeon R5 M330</td>\n",
       "      <td>Windows</td>\n",
       "      <td>10</td>\n",
       "      <td>2.19kg</td>\n",
       "      <td>6793488.0</td>\n",
       "    </tr>\n",
       "    <tr>\n",
       "      <th>324</th>\n",
       "      <td>Asus</td>\n",
       "      <td>X553SA-XX031T (N3050/4GB/500GB/W10)</td>\n",
       "      <td>Notebook</td>\n",
       "      <td>15.6\"</td>\n",
       "      <td>1366x768</td>\n",
       "      <td>Intel Celeron Dual Core N3050 1.6GHz</td>\n",
       "      <td>4GB</td>\n",
       "      <td>500GB HDD</td>\n",
       "      <td>Intel HD Graphics</td>\n",
       "      <td>Windows</td>\n",
       "      <td>10</td>\n",
       "      <td>2.2kg</td>\n",
       "      <td>3281148.0</td>\n",
       "    </tr>\n",
       "  </tbody>\n",
       "</table>\n",
       "<p>325 rows × 13 columns</p>\n",
       "</div>"
      ],
      "text/plain": [
       "    Manufacturer                           Model Name            Category  \\\n",
       "0             HP    15-bs053od (i7-7500U/6GB/1TB/W10)            Notebook   \n",
       "1           Asus                     Rog GL753VE-DS74              Gaming   \n",
       "2           Dell                        Inspiron 7579  2 in 1 Convertible   \n",
       "3        Toshiba                    Portege Z30-C-1CV            Notebook   \n",
       "4         Lenovo                    IdeaPad 320-15ABR            Notebook   \n",
       "..           ...                                  ...                 ...   \n",
       "320       Lenovo                       Yoga 500-14ISK  2 in 1 Convertible   \n",
       "321       Lenovo                       Yoga 900-13ISK  2 in 1 Convertible   \n",
       "322       Lenovo                   IdeaPad 100S-14IBR            Notebook   \n",
       "323           HP  15-AC110nv (i7-6500U/6GB/1TB/Radeon            Notebook   \n",
       "324         Asus  X553SA-XX031T (N3050/4GB/500GB/W10)            Notebook   \n",
       "\n",
       "    Screen Size                                      Screen  \\\n",
       "0         15.6\"                                    1366x768   \n",
       "1         17.3\"                           Full HD 1920x1080   \n",
       "2         15.6\"   IPS Panel Full HD / Touchscreen 1920x1080   \n",
       "3         13.3\"                           Full HD 1920x1080   \n",
       "4         15.6\"                           Full HD 1920x1080   \n",
       "..          ...                                         ...   \n",
       "320       14.0\"   IPS Panel Full HD / Touchscreen 1920x1080   \n",
       "321       13.3\"  IPS Panel Quad HD+ / Touchscreen 3200x1800   \n",
       "322       14.0\"                                    1366x768   \n",
       "323       15.6\"                                    1366x768   \n",
       "324       15.6\"                                    1366x768   \n",
       "\n",
       "                                      CPU   RAM               Storage  \\\n",
       "0              Intel Core i7 7500U 2.7GHz   6GB               1TB HDD   \n",
       "1             Intel Core i7 7700HQ 2.8GHz  16GB  256GB SSD +  1TB HDD   \n",
       "2              Intel Core i7 7500U 2.7GHz  12GB             512GB SSD   \n",
       "3              Intel Core i5 6200U 2.3GHz   4GB             128GB SSD   \n",
       "4             AMD A12-Series 9720P 3.6GHz   6GB             256GB SSD   \n",
       "..                                    ...   ...                   ...   \n",
       "320            Intel Core i7 6500U 2.5GHz   4GB             128GB SSD   \n",
       "321            Intel Core i7 6500U 2.5GHz  16GB             512GB SSD   \n",
       "322  Intel Celeron Dual Core N3050 1.6GHz   2GB    64GB Flash Storage   \n",
       "323            Intel Core i7 6500U 2.5GHz   6GB               1TB HDD   \n",
       "324  Intel Celeron Dual Core N3050 1.6GHz   4GB             500GB HDD   \n",
       "\n",
       "                            GPU Operating System Operating System Version  \\\n",
       "0         Intel HD Graphics 620          Windows                       10   \n",
       "1    Nvidia GeForce GTX 1050 Ti          Windows                       10   \n",
       "2         Intel HD Graphics 620          Windows                       10   \n",
       "3         Intel HD Graphics 520          Windows                        7   \n",
       "4                AMD Radeon 530          Windows                       10   \n",
       "..                          ...              ...                      ...   \n",
       "320       Intel HD Graphics 520          Windows                       10   \n",
       "321       Intel HD Graphics 520          Windows                       10   \n",
       "322           Intel HD Graphics          Windows                       10   \n",
       "323          AMD Radeon R5 M330          Windows                       10   \n",
       "324           Intel HD Graphics          Windows                       10   \n",
       "\n",
       "     Weight       Price  \n",
       "0    2.04kg   5148468.0  \n",
       "1    2.99kg  15552108.0  \n",
       "2    2.19kg  11550708.0  \n",
       "3     1.2kg  10625940.0  \n",
       "4     2.2kg   4881708.0  \n",
       "..      ...         ...  \n",
       "320   1.8kg   5673096.0  \n",
       "321   1.3kg  13329108.0  \n",
       "322   1.5kg   2036268.0  \n",
       "323  2.19kg   6793488.0  \n",
       "324   2.2kg   3281148.0  \n",
       "\n",
       "[325 rows x 13 columns]"
      ]
     },
     "execution_count": 3,
     "metadata": {},
     "output_type": "execute_result"
    }
   ],
   "source": [
    "df"
   ]
  },
  {
   "cell_type": "code",
   "execution_count": 4,
   "id": "92ccd72e-949e-4745-b2c0-2992104ab9c4",
   "metadata": {},
   "outputs": [
    {
     "data": {
      "text/html": [
       "<div>\n",
       "<style scoped>\n",
       "    .dataframe tbody tr th:only-of-type {\n",
       "        vertical-align: middle;\n",
       "    }\n",
       "\n",
       "    .dataframe tbody tr th {\n",
       "        vertical-align: top;\n",
       "    }\n",
       "\n",
       "    .dataframe thead th {\n",
       "        text-align: right;\n",
       "    }\n",
       "</style>\n",
       "<table border=\"1\" class=\"dataframe\">\n",
       "  <thead>\n",
       "    <tr style=\"text-align: right;\">\n",
       "      <th></th>\n",
       "      <th>Manufacturer</th>\n",
       "      <th>Model Name</th>\n",
       "      <th>Category</th>\n",
       "      <th>Screen Size</th>\n",
       "      <th>Screen</th>\n",
       "      <th>CPU</th>\n",
       "      <th>RAM</th>\n",
       "      <th>Storage</th>\n",
       "      <th>GPU</th>\n",
       "      <th>Operating System</th>\n",
       "      <th>Operating System Version</th>\n",
       "      <th>Weight</th>\n",
       "      <th>Price</th>\n",
       "    </tr>\n",
       "  </thead>\n",
       "  <tbody>\n",
       "    <tr>\n",
       "      <th>0</th>\n",
       "      <td>HP</td>\n",
       "      <td>15-bs053od (i7-7500U/6GB/1TB/W10)</td>\n",
       "      <td>Notebook</td>\n",
       "      <td>15.6\"</td>\n",
       "      <td>1366x768</td>\n",
       "      <td>Intel Core i7 7500U 2.7GHz</td>\n",
       "      <td>6GB</td>\n",
       "      <td>1TB HDD</td>\n",
       "      <td>Intel HD Graphics 620</td>\n",
       "      <td>Windows</td>\n",
       "      <td>10</td>\n",
       "      <td>2.04kg</td>\n",
       "      <td>5148468.0</td>\n",
       "    </tr>\n",
       "    <tr>\n",
       "      <th>1</th>\n",
       "      <td>Asus</td>\n",
       "      <td>Rog GL753VE-DS74</td>\n",
       "      <td>Gaming</td>\n",
       "      <td>17.3\"</td>\n",
       "      <td>Full HD 1920x1080</td>\n",
       "      <td>Intel Core i7 7700HQ 2.8GHz</td>\n",
       "      <td>16GB</td>\n",
       "      <td>256GB SSD +  1TB HDD</td>\n",
       "      <td>Nvidia GeForce GTX 1050 Ti</td>\n",
       "      <td>Windows</td>\n",
       "      <td>10</td>\n",
       "      <td>2.99kg</td>\n",
       "      <td>15552108.0</td>\n",
       "    </tr>\n",
       "    <tr>\n",
       "      <th>2</th>\n",
       "      <td>Dell</td>\n",
       "      <td>Inspiron 7579</td>\n",
       "      <td>2 in 1 Convertible</td>\n",
       "      <td>15.6\"</td>\n",
       "      <td>IPS Panel Full HD / Touchscreen 1920x1080</td>\n",
       "      <td>Intel Core i7 7500U 2.7GHz</td>\n",
       "      <td>12GB</td>\n",
       "      <td>512GB SSD</td>\n",
       "      <td>Intel HD Graphics 620</td>\n",
       "      <td>Windows</td>\n",
       "      <td>10</td>\n",
       "      <td>2.19kg</td>\n",
       "      <td>11550708.0</td>\n",
       "    </tr>\n",
       "    <tr>\n",
       "      <th>3</th>\n",
       "      <td>Toshiba</td>\n",
       "      <td>Portege Z30-C-1CV</td>\n",
       "      <td>Notebook</td>\n",
       "      <td>13.3\"</td>\n",
       "      <td>Full HD 1920x1080</td>\n",
       "      <td>Intel Core i5 6200U 2.3GHz</td>\n",
       "      <td>4GB</td>\n",
       "      <td>128GB SSD</td>\n",
       "      <td>Intel HD Graphics 520</td>\n",
       "      <td>Windows</td>\n",
       "      <td>7</td>\n",
       "      <td>1.2kg</td>\n",
       "      <td>10625940.0</td>\n",
       "    </tr>\n",
       "    <tr>\n",
       "      <th>4</th>\n",
       "      <td>Lenovo</td>\n",
       "      <td>IdeaPad 320-15ABR</td>\n",
       "      <td>Notebook</td>\n",
       "      <td>15.6\"</td>\n",
       "      <td>Full HD 1920x1080</td>\n",
       "      <td>AMD A12-Series 9720P 3.6GHz</td>\n",
       "      <td>6GB</td>\n",
       "      <td>256GB SSD</td>\n",
       "      <td>AMD Radeon 530</td>\n",
       "      <td>Windows</td>\n",
       "      <td>10</td>\n",
       "      <td>2.2kg</td>\n",
       "      <td>4881708.0</td>\n",
       "    </tr>\n",
       "  </tbody>\n",
       "</table>\n",
       "</div>"
      ],
      "text/plain": [
       "  Manufacturer                         Model Name            Category  \\\n",
       "0           HP  15-bs053od (i7-7500U/6GB/1TB/W10)            Notebook   \n",
       "1         Asus                   Rog GL753VE-DS74              Gaming   \n",
       "2         Dell                      Inspiron 7579  2 in 1 Convertible   \n",
       "3      Toshiba                  Portege Z30-C-1CV            Notebook   \n",
       "4       Lenovo                  IdeaPad 320-15ABR            Notebook   \n",
       "\n",
       "  Screen Size                                     Screen  \\\n",
       "0       15.6\"                                   1366x768   \n",
       "1       17.3\"                          Full HD 1920x1080   \n",
       "2       15.6\"  IPS Panel Full HD / Touchscreen 1920x1080   \n",
       "3       13.3\"                          Full HD 1920x1080   \n",
       "4       15.6\"                          Full HD 1920x1080   \n",
       "\n",
       "                           CPU   RAM               Storage  \\\n",
       "0   Intel Core i7 7500U 2.7GHz   6GB               1TB HDD   \n",
       "1  Intel Core i7 7700HQ 2.8GHz  16GB  256GB SSD +  1TB HDD   \n",
       "2   Intel Core i7 7500U 2.7GHz  12GB             512GB SSD   \n",
       "3   Intel Core i5 6200U 2.3GHz   4GB             128GB SSD   \n",
       "4  AMD A12-Series 9720P 3.6GHz   6GB             256GB SSD   \n",
       "\n",
       "                          GPU Operating System Operating System Version  \\\n",
       "0       Intel HD Graphics 620          Windows                       10   \n",
       "1  Nvidia GeForce GTX 1050 Ti          Windows                       10   \n",
       "2       Intel HD Graphics 620          Windows                       10   \n",
       "3       Intel HD Graphics 520          Windows                        7   \n",
       "4              AMD Radeon 530          Windows                       10   \n",
       "\n",
       "   Weight       Price  \n",
       "0  2.04kg   5148468.0  \n",
       "1  2.99kg  15552108.0  \n",
       "2  2.19kg  11550708.0  \n",
       "3   1.2kg  10625940.0  \n",
       "4   2.2kg   4881708.0  "
      ]
     },
     "execution_count": 4,
     "metadata": {},
     "output_type": "execute_result"
    }
   ],
   "source": [
    "df.head()"
   ]
  },
  {
   "cell_type": "code",
   "execution_count": 5,
   "id": "5ad3606e-f685-4ead-b599-b60f5e97b5ea",
   "metadata": {},
   "outputs": [
    {
     "data": {
      "text/html": [
       "<div>\n",
       "<style scoped>\n",
       "    .dataframe tbody tr th:only-of-type {\n",
       "        vertical-align: middle;\n",
       "    }\n",
       "\n",
       "    .dataframe tbody tr th {\n",
       "        vertical-align: top;\n",
       "    }\n",
       "\n",
       "    .dataframe thead th {\n",
       "        text-align: right;\n",
       "    }\n",
       "</style>\n",
       "<table border=\"1\" class=\"dataframe\">\n",
       "  <thead>\n",
       "    <tr style=\"text-align: right;\">\n",
       "      <th></th>\n",
       "      <th>Manufacturer</th>\n",
       "      <th>Model Name</th>\n",
       "      <th>Category</th>\n",
       "      <th>Screen Size</th>\n",
       "      <th>Screen</th>\n",
       "      <th>CPU</th>\n",
       "      <th>RAM</th>\n",
       "      <th>Storage</th>\n",
       "      <th>GPU</th>\n",
       "      <th>Operating System</th>\n",
       "      <th>Operating System Version</th>\n",
       "      <th>Weight</th>\n",
       "      <th>Price</th>\n",
       "    </tr>\n",
       "  </thead>\n",
       "  <tbody>\n",
       "    <tr>\n",
       "      <th>320</th>\n",
       "      <td>Lenovo</td>\n",
       "      <td>Yoga 500-14ISK</td>\n",
       "      <td>2 in 1 Convertible</td>\n",
       "      <td>14.0\"</td>\n",
       "      <td>IPS Panel Full HD / Touchscreen 1920x1080</td>\n",
       "      <td>Intel Core i7 6500U 2.5GHz</td>\n",
       "      <td>4GB</td>\n",
       "      <td>128GB SSD</td>\n",
       "      <td>Intel HD Graphics 520</td>\n",
       "      <td>Windows</td>\n",
       "      <td>10</td>\n",
       "      <td>1.8kg</td>\n",
       "      <td>5673096.0</td>\n",
       "    </tr>\n",
       "    <tr>\n",
       "      <th>321</th>\n",
       "      <td>Lenovo</td>\n",
       "      <td>Yoga 900-13ISK</td>\n",
       "      <td>2 in 1 Convertible</td>\n",
       "      <td>13.3\"</td>\n",
       "      <td>IPS Panel Quad HD+ / Touchscreen 3200x1800</td>\n",
       "      <td>Intel Core i7 6500U 2.5GHz</td>\n",
       "      <td>16GB</td>\n",
       "      <td>512GB SSD</td>\n",
       "      <td>Intel HD Graphics 520</td>\n",
       "      <td>Windows</td>\n",
       "      <td>10</td>\n",
       "      <td>1.3kg</td>\n",
       "      <td>13329108.0</td>\n",
       "    </tr>\n",
       "    <tr>\n",
       "      <th>322</th>\n",
       "      <td>Lenovo</td>\n",
       "      <td>IdeaPad 100S-14IBR</td>\n",
       "      <td>Notebook</td>\n",
       "      <td>14.0\"</td>\n",
       "      <td>1366x768</td>\n",
       "      <td>Intel Celeron Dual Core N3050 1.6GHz</td>\n",
       "      <td>2GB</td>\n",
       "      <td>64GB Flash Storage</td>\n",
       "      <td>Intel HD Graphics</td>\n",
       "      <td>Windows</td>\n",
       "      <td>10</td>\n",
       "      <td>1.5kg</td>\n",
       "      <td>2036268.0</td>\n",
       "    </tr>\n",
       "    <tr>\n",
       "      <th>323</th>\n",
       "      <td>HP</td>\n",
       "      <td>15-AC110nv (i7-6500U/6GB/1TB/Radeon</td>\n",
       "      <td>Notebook</td>\n",
       "      <td>15.6\"</td>\n",
       "      <td>1366x768</td>\n",
       "      <td>Intel Core i7 6500U 2.5GHz</td>\n",
       "      <td>6GB</td>\n",
       "      <td>1TB HDD</td>\n",
       "      <td>AMD Radeon R5 M330</td>\n",
       "      <td>Windows</td>\n",
       "      <td>10</td>\n",
       "      <td>2.19kg</td>\n",
       "      <td>6793488.0</td>\n",
       "    </tr>\n",
       "    <tr>\n",
       "      <th>324</th>\n",
       "      <td>Asus</td>\n",
       "      <td>X553SA-XX031T (N3050/4GB/500GB/W10)</td>\n",
       "      <td>Notebook</td>\n",
       "      <td>15.6\"</td>\n",
       "      <td>1366x768</td>\n",
       "      <td>Intel Celeron Dual Core N3050 1.6GHz</td>\n",
       "      <td>4GB</td>\n",
       "      <td>500GB HDD</td>\n",
       "      <td>Intel HD Graphics</td>\n",
       "      <td>Windows</td>\n",
       "      <td>10</td>\n",
       "      <td>2.2kg</td>\n",
       "      <td>3281148.0</td>\n",
       "    </tr>\n",
       "  </tbody>\n",
       "</table>\n",
       "</div>"
      ],
      "text/plain": [
       "    Manufacturer                           Model Name            Category  \\\n",
       "320       Lenovo                       Yoga 500-14ISK  2 in 1 Convertible   \n",
       "321       Lenovo                       Yoga 900-13ISK  2 in 1 Convertible   \n",
       "322       Lenovo                   IdeaPad 100S-14IBR            Notebook   \n",
       "323           HP  15-AC110nv (i7-6500U/6GB/1TB/Radeon            Notebook   \n",
       "324         Asus  X553SA-XX031T (N3050/4GB/500GB/W10)            Notebook   \n",
       "\n",
       "    Screen Size                                      Screen  \\\n",
       "320       14.0\"   IPS Panel Full HD / Touchscreen 1920x1080   \n",
       "321       13.3\"  IPS Panel Quad HD+ / Touchscreen 3200x1800   \n",
       "322       14.0\"                                    1366x768   \n",
       "323       15.6\"                                    1366x768   \n",
       "324       15.6\"                                    1366x768   \n",
       "\n",
       "                                      CPU   RAM             Storage  \\\n",
       "320            Intel Core i7 6500U 2.5GHz   4GB           128GB SSD   \n",
       "321            Intel Core i7 6500U 2.5GHz  16GB           512GB SSD   \n",
       "322  Intel Celeron Dual Core N3050 1.6GHz   2GB  64GB Flash Storage   \n",
       "323            Intel Core i7 6500U 2.5GHz   6GB             1TB HDD   \n",
       "324  Intel Celeron Dual Core N3050 1.6GHz   4GB           500GB HDD   \n",
       "\n",
       "                       GPU Operating System Operating System Version  Weight  \\\n",
       "320  Intel HD Graphics 520          Windows                       10   1.8kg   \n",
       "321  Intel HD Graphics 520          Windows                       10   1.3kg   \n",
       "322      Intel HD Graphics          Windows                       10   1.5kg   \n",
       "323     AMD Radeon R5 M330          Windows                       10  2.19kg   \n",
       "324      Intel HD Graphics          Windows                       10   2.2kg   \n",
       "\n",
       "          Price  \n",
       "320   5673096.0  \n",
       "321  13329108.0  \n",
       "322   2036268.0  \n",
       "323   6793488.0  \n",
       "324   3281148.0  "
      ]
     },
     "execution_count": 5,
     "metadata": {},
     "output_type": "execute_result"
    }
   ],
   "source": [
    "df.tail()"
   ]
  },
  {
   "cell_type": "code",
   "execution_count": 6,
   "id": "fd2c1b73-4787-42a0-9dc6-479042927e85",
   "metadata": {},
   "outputs": [
    {
     "data": {
      "text/plain": [
       "(325, 13)"
      ]
     },
     "execution_count": 6,
     "metadata": {},
     "output_type": "execute_result"
    }
   ],
   "source": [
    "df.shape"
   ]
  },
  {
   "cell_type": "code",
   "execution_count": 7,
   "id": "cbce6dc3-a2a2-4cc7-965e-50e6f15147e0",
   "metadata": {},
   "outputs": [
    {
     "data": {
      "text/plain": [
       "RangeIndex(start=0, stop=325, step=1)"
      ]
     },
     "execution_count": 7,
     "metadata": {},
     "output_type": "execute_result"
    }
   ],
   "source": [
    "df.index"
   ]
  },
  {
   "cell_type": "code",
   "execution_count": 8,
   "id": "f1f624c3-39a3-4965-9378-b19f50ccbbd8",
   "metadata": {},
   "outputs": [
    {
     "data": {
      "text/plain": [
       "Manufacturer                 object\n",
       "Model Name                   object\n",
       "Category                     object\n",
       "Screen Size                  object\n",
       "Screen                       object\n",
       "CPU                          object\n",
       "RAM                          object\n",
       " Storage                     object\n",
       "GPU                          object\n",
       "Operating System             object\n",
       "Operating System Version     object\n",
       "Weight                       object\n",
       "Price                       float64\n",
       "dtype: object"
      ]
     },
     "execution_count": 8,
     "metadata": {},
     "output_type": "execute_result"
    }
   ],
   "source": [
    "df.dtypes"
   ]
  },
  {
   "cell_type": "code",
   "execution_count": null,
   "id": "c32b51d6-b7a3-4313-bb3a-52294781f922",
   "metadata": {},
   "outputs": [],
   "source": [
    "#CHANGING WEIGHT FROM OBJECT TO FLOAT\n"
   ]
  },
  {
   "cell_type": "code",
   "execution_count": 9,
   "id": "89c71a3b-7205-48f0-a292-d8dcd0a0013b",
   "metadata": {},
   "outputs": [
    {
     "data": {
      "text/html": [
       "<div>\n",
       "<style scoped>\n",
       "    .dataframe tbody tr th:only-of-type {\n",
       "        vertical-align: middle;\n",
       "    }\n",
       "\n",
       "    .dataframe tbody tr th {\n",
       "        vertical-align: top;\n",
       "    }\n",
       "\n",
       "    .dataframe thead th {\n",
       "        text-align: right;\n",
       "    }\n",
       "</style>\n",
       "<table border=\"1\" class=\"dataframe\">\n",
       "  <thead>\n",
       "    <tr style=\"text-align: right;\">\n",
       "      <th></th>\n",
       "      <th>count</th>\n",
       "      <th>mean</th>\n",
       "      <th>std</th>\n",
       "      <th>min</th>\n",
       "      <th>25%</th>\n",
       "      <th>50%</th>\n",
       "      <th>75%</th>\n",
       "      <th>max</th>\n",
       "    </tr>\n",
       "  </thead>\n",
       "  <tbody>\n",
       "    <tr>\n",
       "      <th>Price</th>\n",
       "      <td>325.0</td>\n",
       "      <td>9891671.472</td>\n",
       "      <td>5.943217e+06</td>\n",
       "      <td>1547208.0</td>\n",
       "      <td>5317416.0</td>\n",
       "      <td>8892000.0</td>\n",
       "      <td>13320216.0</td>\n",
       "      <td>35345700.0</td>\n",
       "    </tr>\n",
       "  </tbody>\n",
       "</table>\n",
       "</div>"
      ],
      "text/plain": [
       "       count         mean           std        min        25%        50%  \\\n",
       "Price  325.0  9891671.472  5.943217e+06  1547208.0  5317416.0  8892000.0   \n",
       "\n",
       "              75%         max  \n",
       "Price  13320216.0  35345700.0  "
      ]
     },
     "execution_count": 9,
     "metadata": {},
     "output_type": "execute_result"
    }
   ],
   "source": [
    "df.describe().T"
   ]
  },
  {
   "cell_type": "code",
   "execution_count": 10,
   "id": "817424fb-9c39-4cc7-bdd5-e145a856e7a0",
   "metadata": {},
   "outputs": [
    {
     "data": {
      "text/plain": [
       "HP         95\n",
       "Lenovo     71\n",
       "Dell       65\n",
       "Asus       35\n",
       "Acer       20\n",
       "MSI        20\n",
       "Toshiba     9\n",
       "Apple       4\n",
       "Vero        2\n",
       "Razer       2\n",
       "Fujitsu     1\n",
       "Samsung     1\n",
       "Name: Manufacturer, dtype: int64"
      ]
     },
     "execution_count": 10,
     "metadata": {},
     "output_type": "execute_result"
    }
   ],
   "source": [
    "df['Manufacturer'].value_counts()"
   ]
  },
  {
   "cell_type": "code",
   "execution_count": 11,
   "id": "129ef4a2-6a79-425a-9ad5-9b62059417a0",
   "metadata": {},
   "outputs": [
    {
     "data": {
      "text/plain": [
       "Inspiron 3567         9\n",
       "XPS 13                8\n",
       "EliteBook 840         7\n",
       "ProBook 450           6\n",
       "Inspiron 5567         6\n",
       "                     ..\n",
       "Rog GL702VM-GC354T    1\n",
       "Inspiron 5370         1\n",
       "Aspire F5-573G        1\n",
       "GS70 Stealth          1\n",
       "EliteBook 1030        1\n",
       "Name: Model Name, Length: 197, dtype: int64"
      ]
     },
     "execution_count": 11,
     "metadata": {},
     "output_type": "execute_result"
    }
   ],
   "source": [
    "df['Model Name'].value_counts()"
   ]
  },
  {
   "cell_type": "code",
   "execution_count": 12,
   "id": "eefa33d4-cf6c-447f-86df-08a5909bafaa",
   "metadata": {},
   "outputs": [
    {
     "data": {
      "text/plain": [
       "Notebook              178\n",
       "Gaming                 55\n",
       "Ultrabook              44\n",
       "2 in 1 Convertible     35\n",
       "Netbook                 8\n",
       "Workstation             5\n",
       "Name: Category, dtype: int64"
      ]
     },
     "execution_count": 12,
     "metadata": {},
     "output_type": "execute_result"
    }
   ],
   "source": [
    "df['Category'].value_counts()"
   ]
  },
  {
   "cell_type": "code",
   "execution_count": 13,
   "id": "014f4d29-c2f4-472a-aebb-b4a23541541f",
   "metadata": {},
   "outputs": [
    {
     "data": {
      "text/plain": [
       "15.6\"    170\n",
       "14.0\"     51\n",
       "13.3\"     41\n",
       "17.3\"     33\n",
       "12.5\"     16\n",
       "11.6\"      6\n",
       "12.0\"      3\n",
       "10.1\"      3\n",
       "12.3\"      1\n",
       "15.0\"      1\n",
       "Name: Screen Size, dtype: int64"
      ]
     },
     "execution_count": 13,
     "metadata": {},
     "output_type": "execute_result"
    }
   ],
   "source": [
    "df['Screen Size'].value_counts()"
   ]
  },
  {
   "cell_type": "code",
   "execution_count": 14,
   "id": "7a3541e3-650c-4474-9142-54732c4cae27",
   "metadata": {},
   "outputs": [
    {
     "data": {
      "text/plain": [
       "Full HD 1920x1080                                110\n",
       "1366x768                                         101\n",
       "IPS Panel Full HD 1920x1080                       49\n",
       "IPS Panel Full HD / Touchscreen 1920x1080         18\n",
       "Full HD / Touchscreen 1920x1080                    9\n",
       "Quad HD+ / Touchscreen 3200x1800                   7\n",
       "IPS Panel Touchscreen 2560x1440                    4\n",
       "1600x900                                           4\n",
       "IPS Panel Touchscreen 1920x1200                    3\n",
       "IPS Panel Retina Display 2304x1440                 3\n",
       "IPS Panel Quad HD+ / Touchscreen 3200x1800         3\n",
       "4K Ultra HD 3840x2160                              2\n",
       "IPS Panel 4K Ultra HD 3840x2160                    2\n",
       "Quad HD+ 3200x1800                                 2\n",
       "Touchscreen 2560x1440                              2\n",
       "IPS Panel 2560x1440                                1\n",
       "Touchscreen / 4K Ultra HD 3840x2160                1\n",
       "IPS Panel Touchscreen / 4K Ultra HD 3840x2160      1\n",
       "IPS Panel Touchscreen 2400x1600                    1\n",
       "Touchscreen 1366x768                               1\n",
       "2560x1440                                          1\n",
       "Name: Screen, dtype: int64"
      ]
     },
     "execution_count": 14,
     "metadata": {},
     "output_type": "execute_result"
    }
   ],
   "source": [
    "df['Screen'].value_counts()"
   ]
  },
  {
   "cell_type": "code",
   "execution_count": 15,
   "id": "b5d2844e-ee53-412c-9f3a-2c580c47dfe8",
   "metadata": {},
   "outputs": [
    {
     "data": {
      "text/plain": [
       "Intel Core i5 7200U 2.5GHz              39\n",
       "Intel Core i5 6200U 2.3GHz              36\n",
       "Intel Core i7 6500U 2.5GHz              33\n",
       "Intel Core i7 6700HQ 2.6GHz             32\n",
       "Intel Core i7 7500U 2.7GHz              30\n",
       "Intel Core i7 7700HQ 2.8GHz             23\n",
       "Intel Core i3 7100U 2.4GHz              11\n",
       "Intel Celeron Dual Core N3050 1.6GHz    10\n",
       "Intel Core i7 6600U 2.6GHz              10\n",
       "Intel Core i5 6300U 2.4GHz               8\n",
       "Intel Celeron Dual Core N3060 1.6GHz     8\n",
       "Intel Core i3 6006U 2GHz                 7\n",
       "Intel Core i3 6100U 2.3GHz               7\n",
       "Intel Core i3 6006U 2.0GHz               6\n",
       "Intel Core i7 6820HK 2.7GHz              4\n",
       "Intel Pentium Quad Core N3710 1.6GHz     3\n",
       "Intel Core M 6Y30 0.9GHz                 3\n",
       "Intel Core i5 6300HQ 2.3GHz              3\n",
       "Intel Atom x5-Z8550 1.44GHz              3\n",
       "AMD A9-Series 9410 2.9GHz                3\n",
       "Intel Core i5 7300HQ 2.5GHz              3\n",
       "Intel Celeron Dual Core N3350 1.1GHz     3\n",
       "Intel Celeron Dual Core 3205U 1.5GHz     2\n",
       "AMD A12-Series 9720P 3.6GHz              2\n",
       "Intel Celeron Dual Core N3350 2GHz       2\n",
       "Intel Core M 6Y75 1.2GHz                 2\n",
       "Intel Core i7 8550U 1.8GHz               2\n",
       "Intel Core i7 6500U 2.50GHz              2\n",
       "AMD A6-Series 9220 2.5GHz                2\n",
       "Intel Atom X5-Z8350 1.44GHz              2\n",
       "AMD A8-Series 7410 2.2GHz                2\n",
       "Intel Pentium Quad Core N3700 1.6GHz     2\n",
       "Intel Core i7 6820HQ 2.7GHz              2\n",
       "Intel Core M 1.1GHz                      2\n",
       "AMD E-Series 9000 2.2GHz                 1\n",
       "Intel Core i5 7200U 2.7GHz               1\n",
       "Intel Core i5 7Y54 1.2GHz                1\n",
       "Intel Core i5 1.6GHz                     1\n",
       "AMD A12-Series 9720P 2.7GHz              1\n",
       "Intel Core i7 7Y75 1.3GHz                1\n",
       "Intel Core M 1.2GHz                      1\n",
       "Intel Pentium Quad Core N4200 1.1GHz     1\n",
       "Samsung Cortex A72&A53 2.0GHz            1\n",
       "Intel Core i5 8250U 1.6GHz               1\n",
       "AMD A6-Series A6-9220 2.5GHz             1\n",
       "AMD E-Series 7110 1.8GHz                 1\n",
       "Intel Pentium Dual Core 4405Y 1.5GHz     1\n",
       "AMD A9-Series 9420 3GHz                  1\n",
       "Intel Core M 6Y54 1.1GHz                 1\n",
       "Intel Core i7 7560U 2.4GHz               1\n",
       "Name: CPU, dtype: int64"
      ]
     },
     "execution_count": 15,
     "metadata": {},
     "output_type": "execute_result"
    }
   ],
   "source": [
    "df['CPU'].value_counts()"
   ]
  },
  {
   "cell_type": "code",
   "execution_count": 16,
   "id": "deaf23ce-89b5-4a61-bc61-ca88d21ddfb9",
   "metadata": {},
   "outputs": [
    {
     "data": {
      "text/plain": [
       "8GB     136\n",
       "4GB     104\n",
       "16GB     50\n",
       "6GB      17\n",
       "2GB      12\n",
       "12GB      4\n",
       "64GB      1\n",
       "32GB      1\n",
       "Name: RAM, dtype: int64"
      ]
     },
     "execution_count": 16,
     "metadata": {},
     "output_type": "execute_result"
    }
   ],
   "source": [
    "df['RAM'].value_counts()"
   ]
  },
  {
   "cell_type": "code",
   "execution_count": 17,
   "id": "c9a144c6-2419-4411-babc-73d189f7e7ca",
   "metadata": {},
   "outputs": [
    {
     "data": {
      "text/plain": [
       "256GB SSD                  94\n",
       "1TB HDD                    53\n",
       "500GB HDD                  53\n",
       "512GB SSD                  27\n",
       "128GB SSD +  1TB HDD       23\n",
       "256GB SSD +  1TB HDD       21\n",
       "128GB SSD                  14\n",
       "32GB Flash Storage          9\n",
       "1TB Hybrid                  8\n",
       "64GB Flash Storage          6\n",
       "256GB Flash Storage         3\n",
       "1TB SSD                     3\n",
       "2TB HDD                     2\n",
       "16GB Flash Storage          1\n",
       "512GB SSD +  1TB Hybrid     1\n",
       "256GB SSD +  500GB HDD      1\n",
       "1GB SSD                     1\n",
       "16GB SSD                    1\n",
       "256GB SSD +  1TB Hybrid     1\n",
       "512GB SSD +  1TB HDD        1\n",
       "512GB Flash Storage         1\n",
       "32GB SSD                    1\n",
       "Name:  Storage, dtype: int64"
      ]
     },
     "execution_count": 17,
     "metadata": {},
     "output_type": "execute_result"
    }
   ],
   "source": [
    "df[' Storage'].value_counts()"
   ]
  },
  {
   "cell_type": "code",
   "execution_count": 18,
   "id": "7500042e-0eec-4711-bb89-ad3bf13bcd1c",
   "metadata": {},
   "outputs": [
    {
     "data": {
      "text/plain": [
       "Intel HD Graphics 520             87\n",
       "Intel HD Graphics 620             56\n",
       "Intel HD Graphics                 16\n",
       "Nvidia GeForce GTX 1060           14\n",
       "Intel HD Graphics 400             13\n",
       "Nvidia GeForce GTX 960M           11\n",
       "Intel HD Graphics 515              9\n",
       "Nvidia GeForce GTX 1050            9\n",
       "Nvidia GeForce 940MX               8\n",
       "AMD Radeon R5 M330                 7\n",
       "Nvidia GeForce GTX 980M            7\n",
       "Nvidia GeForce GTX 1050 Ti         6\n",
       "AMD Radeon R7 M445                 5\n",
       "AMD Radeon R5 M430                 5\n",
       "Intel HD Graphics 500              5\n",
       "Nvidia GeForce GTX 1070            4\n",
       "Nvidia GeForce 920M                4\n",
       "AMD Radeon 530                     4\n",
       "AMD Radeon R7 M440                 4\n",
       "Nvidia GeForce GTX 970M            4\n",
       "Nvidia GeForce 930MX               3\n",
       "AMD Radeon R5                      3\n",
       "Nvidia Quadro M1000M               2\n",
       "Intel UHD Graphics 620             2\n",
       "Intel HD Graphics 405              2\n",
       "AMD Radeon 520                     2\n",
       "Nvidia GeForce GTX 950M            2\n",
       "Nvidia GeForce GTX 965M            2\n",
       "Nvidia GeForce 920MX               2\n",
       "Intel HD Graphics 615              2\n",
       "AMD Radeon R2 Graphics             2\n",
       "Nvidia GeForce 960M                1\n",
       "Intel HD Graphics 5300             1\n",
       "ARM Mali T860 MP4                  1\n",
       "Nvidia GeForce GT 940MX            1\n",
       "Nvidia GeForce GTX 960<U+039C>     1\n",
       "Nvidia GeForce GTX 960             1\n",
       "Intel HD Graphics 6000             1\n",
       "Nvidia GeForce 920MX               1\n",
       "AMD FirePro W4190M                 1\n",
       "Nvidia GeForce GTX 1050Ti          1\n",
       "Nvidia Quadro M3000M               1\n",
       "AMD Radeon R7 M360                 1\n",
       "Nvidia Quadro M500M                1\n",
       "Intel Iris Plus Graphics 640       1\n",
       "AMD Radeon R5 M315                 1\n",
       "AMD Radeon R4                      1\n",
       "AMD FirePro W6150M                 1\n",
       "Nvidia GeForce GTX 980             1\n",
       "Nvidia GeForce 930M                1\n",
       "Nvidia Quadro 3000M                1\n",
       "Intel HD Graphics 505              1\n",
       "Intel HD Graphics 620              1\n",
       "AMD Radeon R4 Graphics             1\n",
       "Name: GPU, dtype: int64"
      ]
     },
     "execution_count": 18,
     "metadata": {},
     "output_type": "execute_result"
    }
   ],
   "source": [
    "df['GPU'].value_counts()"
   ]
  },
  {
   "cell_type": "code",
   "execution_count": 19,
   "id": "dba5737c-4ffc-43e5-860b-c7d6a3d33e10",
   "metadata": {},
   "outputs": [
    {
     "data": {
      "text/plain": [
       "Full HD 1920x1080                                110\n",
       "1366x768                                         101\n",
       "IPS Panel Full HD 1920x1080                       49\n",
       "IPS Panel Full HD / Touchscreen 1920x1080         18\n",
       "Full HD / Touchscreen 1920x1080                    9\n",
       "Quad HD+ / Touchscreen 3200x1800                   7\n",
       "IPS Panel Touchscreen 2560x1440                    4\n",
       "1600x900                                           4\n",
       "IPS Panel Touchscreen 1920x1200                    3\n",
       "IPS Panel Retina Display 2304x1440                 3\n",
       "IPS Panel Quad HD+ / Touchscreen 3200x1800         3\n",
       "4K Ultra HD 3840x2160                              2\n",
       "IPS Panel 4K Ultra HD 3840x2160                    2\n",
       "Quad HD+ 3200x1800                                 2\n",
       "Touchscreen 2560x1440                              2\n",
       "IPS Panel 2560x1440                                1\n",
       "Touchscreen / 4K Ultra HD 3840x2160                1\n",
       "IPS Panel Touchscreen / 4K Ultra HD 3840x2160      1\n",
       "IPS Panel Touchscreen 2400x1600                    1\n",
       "Touchscreen 1366x768                               1\n",
       "2560x1440                                          1\n",
       "Name: Screen, dtype: int64"
      ]
     },
     "execution_count": 19,
     "metadata": {},
     "output_type": "execute_result"
    }
   ],
   "source": [
    "df['Screen'].value_counts()"
   ]
  },
  {
   "cell_type": "code",
   "execution_count": 20,
   "id": "65d7b21d-b0c6-4af9-a5f0-754409b0bc7a",
   "metadata": {},
   "outputs": [
    {
     "data": {
      "image/png": "[encoded data removed]",
      "text/plain": [
       "<Figure size 640x480 with 1 Axes>"
      ]
     },
     "metadata": {},
     "output_type": "display_data"
    }
   ],
   "source": [
    "RM = df['Price']\n",
    "RM.plot(kind='hist');"
   ]
  },
  {
   "cell_type": "code",
   "execution_count": 21,
   "id": "b759d8cc-beca-4f18-a108-69f575c12075",
   "metadata": {},
   "outputs": [],
   "source": [
    "grouped_counts = df.groupby(['Manufacturer', 'Price']).size()"
   ]
  },
  {
   "cell_type": "code",
   "execution_count": 23,
   "id": "3f10559b-8aac-4f9d-bb4b-b66ef7a773b5",
   "metadata": {},
   "outputs": [],
   "source": [
    "grouped_counts1 = df.groupby(['RAM', 'Price']).size()"
   ]
  },
  {
   "cell_type": "code",
   "execution_count": 25,
   "id": "471e559c-dbf8-4c9d-94c7-a3e7b2aa9304",
   "metadata": {},
   "outputs": [],
   "source": [
    "grouped_counts2= df.groupby(['Screen Size','Price']).size()"
   ]
  },
  {
   "cell_type": "code",
   "execution_count": 27,
   "id": "ca0646e1-47fb-4dda-b5ed-634be5a4d9f3",
   "metadata": {},
   "outputs": [],
   "source": [
    "grouped_counts3= df.groupby(['Weight','Price']).size()"
   ]
  },
  {
   "cell_type": "code",
   "execution_count": 22,
   "id": "4181a9db-2c2e-49ba-9322-ea4618babcc0",
   "metadata": {},
   "outputs": [
    {
     "name": "stdout",
     "output_type": "stream",
     "text": [
      "Manufacturer  Price     \n",
      "Acer          1547208.0     1\n",
      "              1858428.0     1\n",
      "              2418624.0     1\n",
      "              2569788.0     3\n",
      "              2961036.0     1\n",
      "                           ..\n",
      "Toshiba       14138280.0    1\n",
      "              15338700.0    1\n",
      "              19793592.0    1\n",
      "Vero          1742832.0     1\n",
      "              1874433.6     1\n",
      "Length: 279, dtype: int64\n"
     ]
    }
   ],
   "source": [
    "print(grouped_counts)"
   ]
  },
  {
   "cell_type": "code",
   "execution_count": 24,
   "id": "eaecafc6-72c7-46fe-a24f-6c2ac8aa500a",
   "metadata": {},
   "outputs": [
    {
     "name": "stdout",
     "output_type": "stream",
     "text": [
      "RAM   Price      \n",
      "12GB  11550708.00    2\n",
      "      11799684.00    1\n",
      "      20442708.00    1\n",
      "16GB  8802991.08     1\n",
      "      8874216.00     1\n",
      "                    ..\n",
      "8GB   20013046.56    1\n",
      "      20424479.40    1\n",
      "      20798388.00    1\n",
      "      25777908.00    1\n",
      "      35118064.80    1\n",
      "Length: 271, dtype: int64\n"
     ]
    }
   ],
   "source": [
    "print(grouped_counts1)"
   ]
  },
  {
   "cell_type": "code",
   "execution_count": 26,
   "id": "508c0fbf-4a9a-489a-bee8-84e35add61cb",
   "metadata": {},
   "outputs": [
    {
     "name": "stdout",
     "output_type": "stream",
     "text": [
      "Screen Size  Price      \n",
      "10.1\"        4259268.00     1\n",
      "             4881708.00     1\n",
      "             5746632.84     1\n",
      "11.6\"        1547208.00     1\n",
      "             1858428.00     3\n",
      "                           ..\n",
      "17.3\"        25777908.00    1\n",
      "             26391456.00    1\n",
      "             28810080.00    1\n",
      "             35118064.80    1\n",
      "             35345700.00    1\n",
      "Length: 278, dtype: int64\n"
     ]
    }
   ],
   "source": [
    "print(grouped_counts2)"
   ]
  },
  {
   "cell_type": "code",
   "execution_count": 28,
   "id": "9c825ad6-5f1c-4cb0-91bf-14087387ca9f",
   "metadata": {},
   "outputs": [
    {
     "name": "stdout",
     "output_type": "stream",
     "text": [
      "Weight   Price      \n",
      "0.69kg   4259268.00     1\n",
      "         4881708.00     1\n",
      "         5746632.84     1\n",
      "0.920kg  10341396.00    1\n",
      "         11372868.00    1\n",
      "                       ..\n",
      "4.3kg    20442708.00    1\n",
      "4.6kg    20362591.08    1\n",
      "         24452911.08    1\n",
      "         28810080.00    1\n",
      "4kgs     8874216.00     1\n",
      "Length: 294, dtype: int64\n"
     ]
    }
   ],
   "source": [
    "print(grouped_counts3)"
   ]
  },
  {
   "cell_type": "code",
   "execution_count": 29,
   "id": "adc94308-b1f2-43d4-861c-ce253174f303",
   "metadata": {},
   "outputs": [],
   "source": [
    "data = pd.read_csv('../DATA/laptops_train.csv')"
   ]
  },
  {
   "cell_type": "code",
   "execution_count": 30,
   "id": "e65dc754-3ca6-4b06-a90c-be742c446ffb",
   "metadata": {},
   "outputs": [
    {
     "data": {
      "text/html": [
       "<div>\n",
       "<style scoped>\n",
       "    .dataframe tbody tr th:only-of-type {\n",
       "        vertical-align: middle;\n",
       "    }\n",
       "\n",
       "    .dataframe tbody tr th {\n",
       "        vertical-align: top;\n",
       "    }\n",
       "\n",
       "    .dataframe thead th {\n",
       "        text-align: right;\n",
       "    }\n",
       "</style>\n",
       "<table border=\"1\" class=\"dataframe\">\n",
       "  <thead>\n",
       "    <tr style=\"text-align: right;\">\n",
       "      <th></th>\n",
       "      <th>Manufacturer</th>\n",
       "      <th>Model Name</th>\n",
       "      <th>Category</th>\n",
       "      <th>Screen Size</th>\n",
       "      <th>Screen</th>\n",
       "      <th>CPU</th>\n",
       "      <th>RAM</th>\n",
       "      <th>Storage</th>\n",
       "      <th>GPU</th>\n",
       "      <th>Operating System</th>\n",
       "      <th>Operating System Version</th>\n",
       "      <th>Weight</th>\n",
       "      <th>Price</th>\n",
       "    </tr>\n",
       "  </thead>\n",
       "  <tbody>\n",
       "    <tr>\n",
       "      <th>0</th>\n",
       "      <td>Apple</td>\n",
       "      <td>MacBook Pro</td>\n",
       "      <td>Ultrabook</td>\n",
       "      <td>13.3\"</td>\n",
       "      <td>IPS Panel Retina Display 2560x1600</td>\n",
       "      <td>Intel Core i5 2.3GHz</td>\n",
       "      <td>8GB</td>\n",
       "      <td>128GB SSD</td>\n",
       "      <td>Intel Iris Plus Graphics 640</td>\n",
       "      <td>macOS</td>\n",
       "      <td>NaN</td>\n",
       "      <td>1.37kg</td>\n",
       "      <td>11912523.48</td>\n",
       "    </tr>\n",
       "    <tr>\n",
       "      <th>1</th>\n",
       "      <td>Apple</td>\n",
       "      <td>Macbook Air</td>\n",
       "      <td>Ultrabook</td>\n",
       "      <td>13.3\"</td>\n",
       "      <td>1440x900</td>\n",
       "      <td>Intel Core i5 1.8GHz</td>\n",
       "      <td>8GB</td>\n",
       "      <td>128GB Flash Storage</td>\n",
       "      <td>Intel HD Graphics 6000</td>\n",
       "      <td>macOS</td>\n",
       "      <td>NaN</td>\n",
       "      <td>1.34kg</td>\n",
       "      <td>7993374.48</td>\n",
       "    </tr>\n",
       "    <tr>\n",
       "      <th>2</th>\n",
       "      <td>HP</td>\n",
       "      <td>250 G6</td>\n",
       "      <td>Notebook</td>\n",
       "      <td>15.6\"</td>\n",
       "      <td>Full HD 1920x1080</td>\n",
       "      <td>Intel Core i5 7200U 2.5GHz</td>\n",
       "      <td>8GB</td>\n",
       "      <td>256GB SSD</td>\n",
       "      <td>Intel HD Graphics 620</td>\n",
       "      <td>No OS</td>\n",
       "      <td>NaN</td>\n",
       "      <td>1.86kg</td>\n",
       "      <td>5112900.00</td>\n",
       "    </tr>\n",
       "    <tr>\n",
       "      <th>3</th>\n",
       "      <td>Apple</td>\n",
       "      <td>MacBook Pro</td>\n",
       "      <td>Ultrabook</td>\n",
       "      <td>15.4\"</td>\n",
       "      <td>IPS Panel Retina Display 2880x1800</td>\n",
       "      <td>Intel Core i7 2.7GHz</td>\n",
       "      <td>16GB</td>\n",
       "      <td>512GB SSD</td>\n",
       "      <td>AMD Radeon Pro 455</td>\n",
       "      <td>macOS</td>\n",
       "      <td>NaN</td>\n",
       "      <td>1.83kg</td>\n",
       "      <td>22563005.40</td>\n",
       "    </tr>\n",
       "    <tr>\n",
       "      <th>4</th>\n",
       "      <td>Apple</td>\n",
       "      <td>MacBook Pro</td>\n",
       "      <td>Ultrabook</td>\n",
       "      <td>13.3\"</td>\n",
       "      <td>IPS Panel Retina Display 2560x1600</td>\n",
       "      <td>Intel Core i5 3.1GHz</td>\n",
       "      <td>8GB</td>\n",
       "      <td>256GB SSD</td>\n",
       "      <td>Intel Iris Plus Graphics 650</td>\n",
       "      <td>macOS</td>\n",
       "      <td>NaN</td>\n",
       "      <td>1.37kg</td>\n",
       "      <td>16037611.20</td>\n",
       "    </tr>\n",
       "    <tr>\n",
       "      <th>...</th>\n",
       "      <td>...</td>\n",
       "      <td>...</td>\n",
       "      <td>...</td>\n",
       "      <td>...</td>\n",
       "      <td>...</td>\n",
       "      <td>...</td>\n",
       "      <td>...</td>\n",
       "      <td>...</td>\n",
       "      <td>...</td>\n",
       "      <td>...</td>\n",
       "      <td>...</td>\n",
       "      <td>...</td>\n",
       "      <td>...</td>\n",
       "    </tr>\n",
       "    <tr>\n",
       "      <th>972</th>\n",
       "      <td>Dell</td>\n",
       "      <td>Alienware 17</td>\n",
       "      <td>Gaming</td>\n",
       "      <td>17.3\"</td>\n",
       "      <td>Full HD 1920x1080</td>\n",
       "      <td>Intel Core i7 6700HQ 2.6GHz</td>\n",
       "      <td>32GB</td>\n",
       "      <td>256GB SSD +  1TB HDD</td>\n",
       "      <td>Nvidia GeForce GTX 1070</td>\n",
       "      <td>Windows</td>\n",
       "      <td>10</td>\n",
       "      <td>4.42kg</td>\n",
       "      <td>24897600.00</td>\n",
       "    </tr>\n",
       "    <tr>\n",
       "      <th>973</th>\n",
       "      <td>Toshiba</td>\n",
       "      <td>Tecra A40-C-1DF</td>\n",
       "      <td>Notebook</td>\n",
       "      <td>14.0\"</td>\n",
       "      <td>Full HD 1920x1080</td>\n",
       "      <td>Intel Core i5 6200U 2.3GHz</td>\n",
       "      <td>8GB</td>\n",
       "      <td>256GB SSD</td>\n",
       "      <td>Intel HD Graphics 520</td>\n",
       "      <td>Windows</td>\n",
       "      <td>10</td>\n",
       "      <td>1.95kg</td>\n",
       "      <td>10492560.00</td>\n",
       "    </tr>\n",
       "    <tr>\n",
       "      <th>974</th>\n",
       "      <td>Asus</td>\n",
       "      <td>Rog Strix</td>\n",
       "      <td>Gaming</td>\n",
       "      <td>17.3\"</td>\n",
       "      <td>Full HD 1920x1080</td>\n",
       "      <td>Intel Core i7 7700HQ 2.8GHz</td>\n",
       "      <td>16GB</td>\n",
       "      <td>256GB SSD +  1TB HDD</td>\n",
       "      <td>Nvidia GeForce GTX 1060</td>\n",
       "      <td>Windows</td>\n",
       "      <td>10</td>\n",
       "      <td>2.73kg</td>\n",
       "      <td>18227710.80</td>\n",
       "    </tr>\n",
       "    <tr>\n",
       "      <th>975</th>\n",
       "      <td>HP</td>\n",
       "      <td>Probook 450</td>\n",
       "      <td>Notebook</td>\n",
       "      <td>15.6\"</td>\n",
       "      <td>IPS Panel Full HD 1920x1080</td>\n",
       "      <td>Intel Core i5 7200U 2.70GHz</td>\n",
       "      <td>8GB</td>\n",
       "      <td>128GB SSD +  1TB HDD</td>\n",
       "      <td>Nvidia GeForce 930MX</td>\n",
       "      <td>Windows</td>\n",
       "      <td>10</td>\n",
       "      <td>2.04kg</td>\n",
       "      <td>8705268.00</td>\n",
       "    </tr>\n",
       "    <tr>\n",
       "      <th>976</th>\n",
       "      <td>Lenovo</td>\n",
       "      <td>ThinkPad T460</td>\n",
       "      <td>Notebook</td>\n",
       "      <td>14.0\"</td>\n",
       "      <td>1366x768</td>\n",
       "      <td>Intel Core i5 6200U 2.3GHz</td>\n",
       "      <td>4GB</td>\n",
       "      <td>508GB Hybrid</td>\n",
       "      <td>Intel HD Graphics 520</td>\n",
       "      <td>Windows</td>\n",
       "      <td>7</td>\n",
       "      <td>1.70kg</td>\n",
       "      <td>8909784.00</td>\n",
       "    </tr>\n",
       "  </tbody>\n",
       "</table>\n",
       "<p>977 rows × 13 columns</p>\n",
       "</div>"
      ],
      "text/plain": [
       "    Manufacturer       Model Name   Category Screen Size  \\\n",
       "0          Apple      MacBook Pro  Ultrabook       13.3\"   \n",
       "1          Apple      Macbook Air  Ultrabook       13.3\"   \n",
       "2             HP           250 G6   Notebook       15.6\"   \n",
       "3          Apple      MacBook Pro  Ultrabook       15.4\"   \n",
       "4          Apple      MacBook Pro  Ultrabook       13.3\"   \n",
       "..           ...              ...        ...         ...   \n",
       "972         Dell     Alienware 17     Gaming       17.3\"   \n",
       "973      Toshiba  Tecra A40-C-1DF   Notebook       14.0\"   \n",
       "974         Asus        Rog Strix     Gaming       17.3\"   \n",
       "975           HP      Probook 450   Notebook       15.6\"   \n",
       "976       Lenovo    ThinkPad T460   Notebook       14.0\"   \n",
       "\n",
       "                                 Screen                          CPU   RAM  \\\n",
       "0    IPS Panel Retina Display 2560x1600         Intel Core i5 2.3GHz   8GB   \n",
       "1                              1440x900         Intel Core i5 1.8GHz   8GB   \n",
       "2                     Full HD 1920x1080   Intel Core i5 7200U 2.5GHz   8GB   \n",
       "3    IPS Panel Retina Display 2880x1800         Intel Core i7 2.7GHz  16GB   \n",
       "4    IPS Panel Retina Display 2560x1600         Intel Core i5 3.1GHz   8GB   \n",
       "..                                  ...                          ...   ...   \n",
       "972                   Full HD 1920x1080  Intel Core i7 6700HQ 2.6GHz  32GB   \n",
       "973                   Full HD 1920x1080   Intel Core i5 6200U 2.3GHz   8GB   \n",
       "974                   Full HD 1920x1080  Intel Core i7 7700HQ 2.8GHz  16GB   \n",
       "975         IPS Panel Full HD 1920x1080  Intel Core i5 7200U 2.70GHz   8GB   \n",
       "976                            1366x768   Intel Core i5 6200U 2.3GHz   4GB   \n",
       "\n",
       "                  Storage                           GPU Operating System  \\\n",
       "0               128GB SSD  Intel Iris Plus Graphics 640            macOS   \n",
       "1     128GB Flash Storage        Intel HD Graphics 6000            macOS   \n",
       "2               256GB SSD         Intel HD Graphics 620            No OS   \n",
       "3               512GB SSD            AMD Radeon Pro 455            macOS   \n",
       "4               256GB SSD  Intel Iris Plus Graphics 650            macOS   \n",
       "..                    ...                           ...              ...   \n",
       "972  256GB SSD +  1TB HDD       Nvidia GeForce GTX 1070          Windows   \n",
       "973             256GB SSD         Intel HD Graphics 520          Windows   \n",
       "974  256GB SSD +  1TB HDD       Nvidia GeForce GTX 1060          Windows   \n",
       "975  128GB SSD +  1TB HDD          Nvidia GeForce 930MX          Windows   \n",
       "976          508GB Hybrid         Intel HD Graphics 520          Windows   \n",
       "\n",
       "    Operating System Version  Weight        Price  \n",
       "0                        NaN  1.37kg  11912523.48  \n",
       "1                        NaN  1.34kg   7993374.48  \n",
       "2                        NaN  1.86kg   5112900.00  \n",
       "3                        NaN  1.83kg  22563005.40  \n",
       "4                        NaN  1.37kg  16037611.20  \n",
       "..                       ...     ...          ...  \n",
       "972                       10  4.42kg  24897600.00  \n",
       "973                       10  1.95kg  10492560.00  \n",
       "974                       10  2.73kg  18227710.80  \n",
       "975                       10  2.04kg   8705268.00  \n",
       "976                        7  1.70kg   8909784.00  \n",
       "\n",
       "[977 rows x 13 columns]"
      ]
     },
     "execution_count": 30,
     "metadata": {},
     "output_type": "execute_result"
    }
   ],
   "source": [
    "data"
   ]
  },
  {
   "cell_type": "code",
   "execution_count": 31,
   "id": "8923085d-6d42-4d4e-a08c-194a47c59b77",
   "metadata": {},
   "outputs": [
    {
     "data": {
      "text/plain": [
       "(977, 13)"
      ]
     },
     "execution_count": 31,
     "metadata": {},
     "output_type": "execute_result"
    }
   ],
   "source": [
    "data.shape"
   ]
  },
  {
   "cell_type": "code",
   "execution_count": 32,
   "id": "eda87a27-6dbb-4b4f-abcb-b5b0a66ffa05",
   "metadata": {},
   "outputs": [
    {
     "data": {
      "text/plain": [
       "Manufacturer                  0\n",
       "Model Name                    0\n",
       "Category                      0\n",
       "Screen Size                   0\n",
       "Screen                        0\n",
       "CPU                           0\n",
       "RAM                           0\n",
       " Storage                      0\n",
       "GPU                           0\n",
       "Operating System              0\n",
       "Operating System Version    136\n",
       "Weight                        0\n",
       "Price                         0\n",
       "dtype: int64"
      ]
     },
     "execution_count": 32,
     "metadata": {},
     "output_type": "execute_result"
    }
   ],
   "source": [
    "data.isnull().sum()"
   ]
  },
  {
   "cell_type": "code",
   "execution_count": 33,
   "id": "e10a471c-1999-4503-b921-fb3a791f2dd2",
   "metadata": {},
   "outputs": [],
   "source": [
    "data['Operating System Version']=data['Operating System Version'].fillna(data['Operating System Version'].mode()[0])"
   ]
  },
  {
   "cell_type": "code",
   "execution_count": 34,
   "id": "a5ed9bcf-2b7c-4a77-8ed8-108c9c9d329f",
   "metadata": {},
   "outputs": [
    {
     "data": {
      "text/html": [
       "<div>\n",
       "<style scoped>\n",
       "    .dataframe tbody tr th:only-of-type {\n",
       "        vertical-align: middle;\n",
       "    }\n",
       "\n",
       "    .dataframe tbody tr th {\n",
       "        vertical-align: top;\n",
       "    }\n",
       "\n",
       "    .dataframe thead th {\n",
       "        text-align: right;\n",
       "    }\n",
       "</style>\n",
       "<table border=\"1\" class=\"dataframe\">\n",
       "  <thead>\n",
       "    <tr style=\"text-align: right;\">\n",
       "      <th></th>\n",
       "      <th>Manufacturer</th>\n",
       "      <th>Model Name</th>\n",
       "      <th>Category</th>\n",
       "      <th>Screen Size</th>\n",
       "      <th>Screen</th>\n",
       "      <th>CPU</th>\n",
       "      <th>RAM</th>\n",
       "      <th>Storage</th>\n",
       "      <th>GPU</th>\n",
       "      <th>Operating System</th>\n",
       "      <th>Operating System Version</th>\n",
       "      <th>Weight</th>\n",
       "      <th>Price</th>\n",
       "    </tr>\n",
       "  </thead>\n",
       "  <tbody>\n",
       "    <tr>\n",
       "      <th>0</th>\n",
       "      <td>Apple</td>\n",
       "      <td>MacBook Pro</td>\n",
       "      <td>Ultrabook</td>\n",
       "      <td>13.3\"</td>\n",
       "      <td>IPS Panel Retina Display 2560x1600</td>\n",
       "      <td>Intel Core i5 2.3GHz</td>\n",
       "      <td>8GB</td>\n",
       "      <td>128GB SSD</td>\n",
       "      <td>Intel Iris Plus Graphics 640</td>\n",
       "      <td>macOS</td>\n",
       "      <td>10</td>\n",
       "      <td>1.37kg</td>\n",
       "      <td>11912523.48</td>\n",
       "    </tr>\n",
       "    <tr>\n",
       "      <th>1</th>\n",
       "      <td>Apple</td>\n",
       "      <td>Macbook Air</td>\n",
       "      <td>Ultrabook</td>\n",
       "      <td>13.3\"</td>\n",
       "      <td>1440x900</td>\n",
       "      <td>Intel Core i5 1.8GHz</td>\n",
       "      <td>8GB</td>\n",
       "      <td>128GB Flash Storage</td>\n",
       "      <td>Intel HD Graphics 6000</td>\n",
       "      <td>macOS</td>\n",
       "      <td>10</td>\n",
       "      <td>1.34kg</td>\n",
       "      <td>7993374.48</td>\n",
       "    </tr>\n",
       "    <tr>\n",
       "      <th>2</th>\n",
       "      <td>HP</td>\n",
       "      <td>250 G6</td>\n",
       "      <td>Notebook</td>\n",
       "      <td>15.6\"</td>\n",
       "      <td>Full HD 1920x1080</td>\n",
       "      <td>Intel Core i5 7200U 2.5GHz</td>\n",
       "      <td>8GB</td>\n",
       "      <td>256GB SSD</td>\n",
       "      <td>Intel HD Graphics 620</td>\n",
       "      <td>No OS</td>\n",
       "      <td>10</td>\n",
       "      <td>1.86kg</td>\n",
       "      <td>5112900.00</td>\n",
       "    </tr>\n",
       "    <tr>\n",
       "      <th>3</th>\n",
       "      <td>Apple</td>\n",
       "      <td>MacBook Pro</td>\n",
       "      <td>Ultrabook</td>\n",
       "      <td>15.4\"</td>\n",
       "      <td>IPS Panel Retina Display 2880x1800</td>\n",
       "      <td>Intel Core i7 2.7GHz</td>\n",
       "      <td>16GB</td>\n",
       "      <td>512GB SSD</td>\n",
       "      <td>AMD Radeon Pro 455</td>\n",
       "      <td>macOS</td>\n",
       "      <td>10</td>\n",
       "      <td>1.83kg</td>\n",
       "      <td>22563005.40</td>\n",
       "    </tr>\n",
       "    <tr>\n",
       "      <th>4</th>\n",
       "      <td>Apple</td>\n",
       "      <td>MacBook Pro</td>\n",
       "      <td>Ultrabook</td>\n",
       "      <td>13.3\"</td>\n",
       "      <td>IPS Panel Retina Display 2560x1600</td>\n",
       "      <td>Intel Core i5 3.1GHz</td>\n",
       "      <td>8GB</td>\n",
       "      <td>256GB SSD</td>\n",
       "      <td>Intel Iris Plus Graphics 650</td>\n",
       "      <td>macOS</td>\n",
       "      <td>10</td>\n",
       "      <td>1.37kg</td>\n",
       "      <td>16037611.20</td>\n",
       "    </tr>\n",
       "    <tr>\n",
       "      <th>...</th>\n",
       "      <td>...</td>\n",
       "      <td>...</td>\n",
       "      <td>...</td>\n",
       "      <td>...</td>\n",
       "      <td>...</td>\n",
       "      <td>...</td>\n",
       "      <td>...</td>\n",
       "      <td>...</td>\n",
       "      <td>...</td>\n",
       "      <td>...</td>\n",
       "      <td>...</td>\n",
       "      <td>...</td>\n",
       "      <td>...</td>\n",
       "    </tr>\n",
       "    <tr>\n",
       "      <th>972</th>\n",
       "      <td>Dell</td>\n",
       "      <td>Alienware 17</td>\n",
       "      <td>Gaming</td>\n",
       "      <td>17.3\"</td>\n",
       "      <td>Full HD 1920x1080</td>\n",
       "      <td>Intel Core i7 6700HQ 2.6GHz</td>\n",
       "      <td>32GB</td>\n",
       "      <td>256GB SSD +  1TB HDD</td>\n",
       "      <td>Nvidia GeForce GTX 1070</td>\n",
       "      <td>Windows</td>\n",
       "      <td>10</td>\n",
       "      <td>4.42kg</td>\n",
       "      <td>24897600.00</td>\n",
       "    </tr>\n",
       "    <tr>\n",
       "      <th>973</th>\n",
       "      <td>Toshiba</td>\n",
       "      <td>Tecra A40-C-1DF</td>\n",
       "      <td>Notebook</td>\n",
       "      <td>14.0\"</td>\n",
       "      <td>Full HD 1920x1080</td>\n",
       "      <td>Intel Core i5 6200U 2.3GHz</td>\n",
       "      <td>8GB</td>\n",
       "      <td>256GB SSD</td>\n",
       "      <td>Intel HD Graphics 520</td>\n",
       "      <td>Windows</td>\n",
       "      <td>10</td>\n",
       "      <td>1.95kg</td>\n",
       "      <td>10492560.00</td>\n",
       "    </tr>\n",
       "    <tr>\n",
       "      <th>974</th>\n",
       "      <td>Asus</td>\n",
       "      <td>Rog Strix</td>\n",
       "      <td>Gaming</td>\n",
       "      <td>17.3\"</td>\n",
       "      <td>Full HD 1920x1080</td>\n",
       "      <td>Intel Core i7 7700HQ 2.8GHz</td>\n",
       "      <td>16GB</td>\n",
       "      <td>256GB SSD +  1TB HDD</td>\n",
       "      <td>Nvidia GeForce GTX 1060</td>\n",
       "      <td>Windows</td>\n",
       "      <td>10</td>\n",
       "      <td>2.73kg</td>\n",
       "      <td>18227710.80</td>\n",
       "    </tr>\n",
       "    <tr>\n",
       "      <th>975</th>\n",
       "      <td>HP</td>\n",
       "      <td>Probook 450</td>\n",
       "      <td>Notebook</td>\n",
       "      <td>15.6\"</td>\n",
       "      <td>IPS Panel Full HD 1920x1080</td>\n",
       "      <td>Intel Core i5 7200U 2.70GHz</td>\n",
       "      <td>8GB</td>\n",
       "      <td>128GB SSD +  1TB HDD</td>\n",
       "      <td>Nvidia GeForce 930MX</td>\n",
       "      <td>Windows</td>\n",
       "      <td>10</td>\n",
       "      <td>2.04kg</td>\n",
       "      <td>8705268.00</td>\n",
       "    </tr>\n",
       "    <tr>\n",
       "      <th>976</th>\n",
       "      <td>Lenovo</td>\n",
       "      <td>ThinkPad T460</td>\n",
       "      <td>Notebook</td>\n",
       "      <td>14.0\"</td>\n",
       "      <td>1366x768</td>\n",
       "      <td>Intel Core i5 6200U 2.3GHz</td>\n",
       "      <td>4GB</td>\n",
       "      <td>508GB Hybrid</td>\n",
       "      <td>Intel HD Graphics 520</td>\n",
       "      <td>Windows</td>\n",
       "      <td>7</td>\n",
       "      <td>1.70kg</td>\n",
       "      <td>8909784.00</td>\n",
       "    </tr>\n",
       "  </tbody>\n",
       "</table>\n",
       "<p>977 rows × 13 columns</p>\n",
       "</div>"
      ],
      "text/plain": [
       "    Manufacturer       Model Name   Category Screen Size  \\\n",
       "0          Apple      MacBook Pro  Ultrabook       13.3\"   \n",
       "1          Apple      Macbook Air  Ultrabook       13.3\"   \n",
       "2             HP           250 G6   Notebook       15.6\"   \n",
       "3          Apple      MacBook Pro  Ultrabook       15.4\"   \n",
       "4          Apple      MacBook Pro  Ultrabook       13.3\"   \n",
       "..           ...              ...        ...         ...   \n",
       "972         Dell     Alienware 17     Gaming       17.3\"   \n",
       "973      Toshiba  Tecra A40-C-1DF   Notebook       14.0\"   \n",
       "974         Asus        Rog Strix     Gaming       17.3\"   \n",
       "975           HP      Probook 450   Notebook       15.6\"   \n",
       "976       Lenovo    ThinkPad T460   Notebook       14.0\"   \n",
       "\n",
       "                                 Screen                          CPU   RAM  \\\n",
       "0    IPS Panel Retina Display 2560x1600         Intel Core i5 2.3GHz   8GB   \n",
       "1                              1440x900         Intel Core i5 1.8GHz   8GB   \n",
       "2                     Full HD 1920x1080   Intel Core i5 7200U 2.5GHz   8GB   \n",
       "3    IPS Panel Retina Display 2880x1800         Intel Core i7 2.7GHz  16GB   \n",
       "4    IPS Panel Retina Display 2560x1600         Intel Core i5 3.1GHz   8GB   \n",
       "..                                  ...                          ...   ...   \n",
       "972                   Full HD 1920x1080  Intel Core i7 6700HQ 2.6GHz  32GB   \n",
       "973                   Full HD 1920x1080   Intel Core i5 6200U 2.3GHz   8GB   \n",
       "974                   Full HD 1920x1080  Intel Core i7 7700HQ 2.8GHz  16GB   \n",
       "975         IPS Panel Full HD 1920x1080  Intel Core i5 7200U 2.70GHz   8GB   \n",
       "976                            1366x768   Intel Core i5 6200U 2.3GHz   4GB   \n",
       "\n",
       "                  Storage                           GPU Operating System  \\\n",
       "0               128GB SSD  Intel Iris Plus Graphics 640            macOS   \n",
       "1     128GB Flash Storage        Intel HD Graphics 6000            macOS   \n",
       "2               256GB SSD         Intel HD Graphics 620            No OS   \n",
       "3               512GB SSD            AMD Radeon Pro 455            macOS   \n",
       "4               256GB SSD  Intel Iris Plus Graphics 650            macOS   \n",
       "..                    ...                           ...              ...   \n",
       "972  256GB SSD +  1TB HDD       Nvidia GeForce GTX 1070          Windows   \n",
       "973             256GB SSD         Intel HD Graphics 520          Windows   \n",
       "974  256GB SSD +  1TB HDD       Nvidia GeForce GTX 1060          Windows   \n",
       "975  128GB SSD +  1TB HDD          Nvidia GeForce 930MX          Windows   \n",
       "976          508GB Hybrid         Intel HD Graphics 520          Windows   \n",
       "\n",
       "    Operating System Version  Weight        Price  \n",
       "0                         10  1.37kg  11912523.48  \n",
       "1                         10  1.34kg   7993374.48  \n",
       "2                         10  1.86kg   5112900.00  \n",
       "3                         10  1.83kg  22563005.40  \n",
       "4                         10  1.37kg  16037611.20  \n",
       "..                       ...     ...          ...  \n",
       "972                       10  4.42kg  24897600.00  \n",
       "973                       10  1.95kg  10492560.00  \n",
       "974                       10  2.73kg  18227710.80  \n",
       "975                       10  2.04kg   8705268.00  \n",
       "976                        7  1.70kg   8909784.00  \n",
       "\n",
       "[977 rows x 13 columns]"
      ]
     },
     "execution_count": 34,
     "metadata": {},
     "output_type": "execute_result"
    }
   ],
   "source": [
    "data"
   ]
  },
  {
   "cell_type": "code",
   "execution_count": 35,
   "id": "497f8146-ba8f-429b-ab6d-aa21bf07b226",
   "metadata": {},
   "outputs": [
    {
     "data": {
      "text/plain": [
       "Manufacturer                0\n",
       "Model Name                  0\n",
       "Category                    0\n",
       "Screen Size                 0\n",
       "Screen                      0\n",
       "CPU                         0\n",
       "RAM                         0\n",
       " Storage                    0\n",
       "GPU                         0\n",
       "Operating System            0\n",
       "Operating System Version    0\n",
       "Weight                      0\n",
       "Price                       0\n",
       "dtype: int64"
      ]
     },
     "execution_count": 35,
     "metadata": {},
     "output_type": "execute_result"
    }
   ],
   "source": [
    "data.isnull().sum()"
   ]
  },
  {
   "cell_type": "code",
   "execution_count": 36,
   "id": "b4ee4546-5bd4-4e9f-b5d6-e6ef0f06bc34",
   "metadata": {},
   "outputs": [
    {
     "data": {
      "text/plain": [
       "RangeIndex(start=0, stop=977, step=1)"
      ]
     },
     "execution_count": 36,
     "metadata": {},
     "output_type": "execute_result"
    }
   ],
   "source": [
    "data.index"
   ]
  },
  {
   "cell_type": "code",
   "execution_count": 37,
   "id": "531a302d-78b9-4268-a67b-6df0cf5b5a52",
   "metadata": {},
   "outputs": [
    {
     "data": {
      "text/plain": [
       "Manufacturer                 object\n",
       "Model Name                   object\n",
       "Category                     object\n",
       "Screen Size                  object\n",
       "Screen                       object\n",
       "CPU                          object\n",
       "RAM                          object\n",
       " Storage                     object\n",
       "GPU                          object\n",
       "Operating System             object\n",
       "Operating System Version     object\n",
       "Weight                       object\n",
       "Price                       float64\n",
       "dtype: object"
      ]
     },
     "execution_count": 37,
     "metadata": {},
     "output_type": "execute_result"
    }
   ],
   "source": [
    "data.dtypes"
   ]
  },
  {
   "cell_type": "code",
   "execution_count": 38,
   "id": "7c751646-4bcb-4a32-94c0-d6dc74aab4a9",
   "metadata": {},
   "outputs": [
    {
     "data": {
      "text/html": [
       "<div>\n",
       "<style scoped>\n",
       "    .dataframe tbody tr th:only-of-type {\n",
       "        vertical-align: middle;\n",
       "    }\n",
       "\n",
       "    .dataframe tbody tr th {\n",
       "        vertical-align: top;\n",
       "    }\n",
       "\n",
       "    .dataframe thead th {\n",
       "        text-align: right;\n",
       "    }\n",
       "</style>\n",
       "<table border=\"1\" class=\"dataframe\">\n",
       "  <thead>\n",
       "    <tr style=\"text-align: right;\">\n",
       "      <th></th>\n",
       "      <th>count</th>\n",
       "      <th>mean</th>\n",
       "      <th>std</th>\n",
       "      <th>min</th>\n",
       "      <th>25%</th>\n",
       "      <th>50%</th>\n",
       "      <th>75%</th>\n",
       "      <th>max</th>\n",
       "    </tr>\n",
       "  </thead>\n",
       "  <tbody>\n",
       "    <tr>\n",
       "      <th>Price</th>\n",
       "      <td>977.0</td>\n",
       "      <td>1.001899e+07</td>\n",
       "      <td>6.306430e+06</td>\n",
       "      <td>1706374.8</td>\n",
       "      <td>5326308.0</td>\n",
       "      <td>8527428.0</td>\n",
       "      <td>13115700.0</td>\n",
       "      <td>54232308.0</td>\n",
       "    </tr>\n",
       "  </tbody>\n",
       "</table>\n",
       "</div>"
      ],
      "text/plain": [
       "       count          mean           std        min        25%        50%  \\\n",
       "Price  977.0  1.001899e+07  6.306430e+06  1706374.8  5326308.0  8527428.0   \n",
       "\n",
       "              75%         max  \n",
       "Price  13115700.0  54232308.0  "
      ]
     },
     "execution_count": 38,
     "metadata": {},
     "output_type": "execute_result"
    }
   ],
   "source": [
    "data.describe().T"
   ]
  },
  {
   "cell_type": "code",
   "execution_count": 39,
   "id": "a54e9965-317b-4cca-bf2b-066783f4f44f",
   "metadata": {},
   "outputs": [
    {
     "data": {
      "text/plain": [
       "Dell         232\n",
       "Lenovo       226\n",
       "HP           179\n",
       "Asus         122\n",
       "Acer          83\n",
       "Toshiba       39\n",
       "MSI           34\n",
       "Apple         17\n",
       "Samsung        8\n",
       "Mediacom       7\n",
       "Microsoft      6\n",
       "Razer          5\n",
       "Xiaomi         4\n",
       "Chuwi          3\n",
       "Google         3\n",
       "LG             3\n",
       "Huawei         2\n",
       "Vero           2\n",
       "Fujitsu        2\n",
       "Name: Manufacturer, dtype: int64"
      ]
     },
     "execution_count": 39,
     "metadata": {},
     "output_type": "execute_result"
    }
   ],
   "source": [
    "data['Manufacturer'].value_counts()"
   ]
  },
  {
   "cell_type": "code",
   "execution_count": 42,
   "id": "bee692d6-9899-4d5a-8a02-70dcdc44f7e5",
   "metadata": {},
   "outputs": [],
   "source": [
    "grouped_counts1 = data.groupby(['Manufacturer', 'Price']).size()"
   ]
  },
  {
   "cell_type": "code",
   "execution_count": 43,
   "id": "7b50e87b-bcbc-4c14-971d-101ddd72ca6d",
   "metadata": {},
   "outputs": [
    {
     "name": "stdout",
     "output_type": "stream",
     "text": [
      "Manufacturer  Price     \n",
      "Acer          1769508.0     1\n",
      "              2391948.0     1\n",
      "              2640924.0     1\n",
      "              2649816.0     1\n",
      "              2925468.0     1\n",
      "                           ..\n",
      "Vero          2311920.0     1\n",
      "Xiaomi        8314020.0     1\n",
      "              8891110.8     1\n",
      "              10661508.0    1\n",
      "              12448355.4    1\n",
      "Length: 852, dtype: int64\n"
     ]
    }
   ],
   "source": [
    "print(grouped_counts1)"
   ]
  },
  {
   "cell_type": "code",
   "execution_count": 42,
   "id": "82f68e35-b863-46c6-ac64-3145a055e349",
   "metadata": {},
   "outputs": [
    {
     "data": {
      "image/png": "[encoded data removed]",
      "text/plain": [
       "<Figure size 640x480 with 1 Axes>"
      ]
     },
     "metadata": {},
     "output_type": "display_data"
    }
   ],
   "source": [
    "RM = df['Price']\n",
    "RM.plot(kind='hist');"
   ]
  },
  {
   "cell_type": "code",
   "execution_count": 44,
   "id": "5a82d7ea-51b0-4c2d-95d4-9ceb2d8db3c3",
   "metadata": {},
   "outputs": [],
   "source": [
    "grouped_counts = data.groupby(['RAM', 'Price']).size()"
   ]
  },
  {
   "cell_type": "code",
   "execution_count": 48,
   "id": "16a12cbe-c5df-4998-9add-f370dc3266fa",
   "metadata": {},
   "outputs": [
    {
     "name": "stdout",
     "output_type": "stream",
     "text": [
      "RAM   Price      \n",
      "12GB  5415228.00     1\n",
      "      5770908.00     1\n",
      "      5859828.00     1\n",
      "      6170959.08     1\n",
      "      6340618.44     1\n",
      "                    ..\n",
      "8GB   22754628.00    1\n",
      "      23030280.00    1\n",
      "      24115104.00    1\n",
      "      26667108.00    1\n",
      "      27565200.00    1\n",
      "Length: 749, dtype: int64\n"
     ]
    }
   ],
   "source": [
    "print(grouped_counts)"
   ]
  },
  {
   "cell_type": "code",
   "execution_count": 46,
   "id": "bc59dbb0-1166-40dd-b934-54e10c95362c",
   "metadata": {},
   "outputs": [],
   "source": [
    "grouped_counts2 = df.groupby(['Screen Size', 'Price']).size()"
   ]
  },
  {
   "cell_type": "code",
   "execution_count": 47,
   "id": "2407785c-a057-4238-8e93-12d9ea7338f0",
   "metadata": {},
   "outputs": [
    {
     "name": "stdout",
     "output_type": "stream",
     "text": [
      "Screen Size  Price      \n",
      "10.1\"        4259268.00     1\n",
      "             4881708.00     1\n",
      "             5746632.84     1\n",
      "11.6\"        1547208.00     1\n",
      "             1858428.00     3\n",
      "                           ..\n",
      "17.3\"        25777908.00    1\n",
      "             26391456.00    1\n",
      "             28810080.00    1\n",
      "             35118064.80    1\n",
      "             35345700.00    1\n",
      "Length: 278, dtype: int64\n"
     ]
    }
   ],
   "source": [
    "print(grouped_counts2)"
   ]
  },
  {
   "cell_type": "code",
   "execution_count": 49,
   "id": "291ccf7c-66f2-4c20-b46e-9456338a35fa",
   "metadata": {},
   "outputs": [],
   "source": [
    "grouped_counts3 = df.groupby(['Weight', 'Price']).size()"
   ]
  },
  {
   "cell_type": "code",
   "execution_count": 50,
   "id": "1d56ce56-c35a-49b8-a7b3-3a8b2da37f45",
   "metadata": {},
   "outputs": [
    {
     "name": "stdout",
     "output_type": "stream",
     "text": [
      "Weight   Price      \n",
      "0.69kg   4259268.00     1\n",
      "         4881708.00     1\n",
      "         5746632.84     1\n",
      "0.920kg  10341396.00    1\n",
      "         11372868.00    1\n",
      "                       ..\n",
      "4.3kg    20442708.00    1\n",
      "4.6kg    20362591.08    1\n",
      "         24452911.08    1\n",
      "         28810080.00    1\n",
      "4kgs     8874216.00     1\n",
      "Length: 294, dtype: int64\n"
     ]
    }
   ],
   "source": [
    "print(grouped_counts3)"
   ]
  },
  {
   "cell_type": "code",
   "execution_count": null,
   "id": "3a8136ac-6534-4fbd-90f9-74cca51cf98d",
   "metadata": {},
   "outputs": [],
   "source": []
  }
 ],
 "metadata": {
  "kernelspec": {
   "display_name": "Python 3 (ipykernel)",
   "language": "python",
   "name": "python3"
  },
  "language_info": {
   "codemirror_mode": {
    "name": "ipython",
    "version": 3
   },
   "file_extension": ".py",
   "mimetype": "text/x-python",
   "name": "python",
   "nbconvert_exporter": "python",
   "pygments_lexer": "ipython3",
   "version": "3.7.16"
  }
 },
 "nbformat": 4,
 "nbformat_minor": 5
}
