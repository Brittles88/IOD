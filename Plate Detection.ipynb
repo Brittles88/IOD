{
 "cells": [
  {
   "cell_type": "code",
   "execution_count": 8,
   "id": "0d9494b3-081f-47ba-9021-d8d34f286312",
   "metadata": {},
   "outputs": [],
   "source": [
    "import os\n",
    "import numpy as np\n",
    "import pandas as pd\n",
    "import tensorflow as tf\n",
    "import plotly.express as px\n",
    "import matplotlib.pyplot as plt\n",
    "import xml.etree.ElementTree as xet\n",
    "import json\n",
    "from glob import glob\n",
    "from shutil import copy\n",
    "from tensorflow.keras.models import Model\n",
    "from tensorflow.keras.callbacks import TensorBoard\n",
    "from sklearn.model_selection import train_test_split\n",
    "from tensorflow.keras.applications import InceptionResNetV2\n",
    "from tensorflow.keras.layers import Dense, Dropout, Flatten, Input\n",
    "from tensorflow.keras.preprocessing.image import load_img, img_to_array"
   ]
  },
  {
   "cell_type": "code",
   "execution_count": 20,
   "id": "caa936e0-866c-4f39-be3f-b377ca225d57",
   "metadata": {},
   "outputs": [
    {
     "name": "stdout",
     "output_type": "stream",
     "text": [
      "[{'content': 'http://com.dataturks.a96-i23.open.s3.amazonaws.com/2c9fafb0646e9cf9016473f1a561002a/77d1f81a-bee6-487c-aff2-0efa31a9925c____bd7f7862-d727-11e7-ad30-e18a56154311.jpg.jpeg', 'annotation': [{'label': ['number_plate'], 'notes': '', 'points': [{'x': 0.7220843672456576, 'y': 0.5879828326180258}, {'x': 0.8684863523573201, 'y': 0.6888412017167382}], 'imageWidth': 806, 'imageHeight': 466}], 'extras': None}, {'content': 'http://com.dataturks.a96-i23.open.s3.amazonaws.com/2c9fafb0646e9cf9016473f1a561002a/4eb236a3-6547-4103-b46f-3756d21128a9___06-Sanjay-Dutt.jpg.jpeg', 'annotation': [{'label': ['number_plate'], 'notes': '', 'points': [{'x': 0.16194331983805668, 'y': 0.8507795100222717}, {'x': 0.582995951417004, 'y': 1}], 'imageWidth': 494, 'imageHeight': 449}], 'extras': None}]\n"
     ]
    }
   ],
   "source": [
    "number_plate_data = []\n",
    "\n",
    "file_path = '../../DATA/Indian_Number_plates.json'\n",
    "\n",
    "with open(file_path, 'r') as file:\n",
    "    for line in file:\n",
    "        # Parse each line as a JSON object\n",
    "        try:\n",
    "            data = json.loads(line)\n",
    "            number_plate_data.append(data)\n",
    "        except json.JSONDecodeError as e:\n",
    "            print(f\"Error parsing line: {e}\")\n",
    "\n",
    "# Check the first few entries\n",
    "print(number_plate_data[:2])  # Print first two entries to verify"
   ]
  },
  {
   "cell_type": "code",
   "execution_count": 22,
   "id": "82f30945-329f-4589-a299-33f3191f9271",
   "metadata": {},
   "outputs": [],
   "source": [
    "number_plate_data = [entry for entry in number_plate_data if 'image_path' in entry]"
   ]
  },
  {
   "cell_type": "code",
   "execution_count": 24,
   "id": "f577ec6a-6c0c-49bb-9261-c413df88019d",
   "metadata": {},
   "outputs": [
    {
     "name": "stdout",
     "output_type": "stream",
     "text": [
      "The dataset is empty.\n"
     ]
    }
   ],
   "source": [
    "if not number_plate_data:\n",
    "    print(\"The dataset is empty.\")\n",
    "else:\n",
    "    print(f\"The dataset contains {len(number_plate_data)} entries.\")\n",
    "    # Optionally, print the structure of the first entry\n",
    "    print(number_plate_data[0])"
   ]
  },
  {
   "cell_type": "code",
   "execution_count": 25,
   "id": "4f1ad989-4af8-4b67-b6a6-3196ceea2bb5",
   "metadata": {},
   "outputs": [
    {
     "name": "stdout",
     "output_type": "stream",
     "text": [
      "The dataset contains 237 entries.\n",
      "{'content': 'http://com.dataturks.a96-i23.open.s3.amazonaws.com/2c9fafb0646e9cf9016473f1a561002a/77d1f81a-bee6-487c-aff2-0efa31a9925c____bd7f7862-d727-11e7-ad30-e18a56154311.jpg.jpeg', 'annotation': [{'label': ['number_plate'], 'notes': '', 'points': [{'x': 0.7220843672456576, 'y': 0.5879828326180258}, {'x': 0.8684863523573201, 'y': 0.6888412017167382}], 'imageWidth': 806, 'imageHeight': 466}], 'extras': None}\n"
     ]
    }
   ],
   "source": [
    "number_plate_data = []\n",
    "\n",
    "file_path = '../../DATA/Indian_Number_plates.json'\n",
    "\n",
    "# Load the data again, as the previous list might have been filtered out completely\n",
    "with open(file_path, 'r') as file:\n",
    "    for line in file:\n",
    "        try:\n",
    "            data = json.loads(line)\n",
    "            number_plate_data.append(data)\n",
    "        except json.JSONDecodeError as e:\n",
    "            print(f\"Error parsing line: {e}\")\n",
    "\n",
    "# Filter entries that have the 'content' key\n",
    "number_plate_data = [entry for entry in number_plate_data if 'content' in entry]\n",
    "\n",
    "# Check if the data is loaded\n",
    "if not number_plate_data:\n",
    "    print(\"The dataset is empty.\")\n",
    "else:\n",
    "    print(f\"The dataset contains {len(number_plate_data)} entries.\")\n",
    "    # Print the structure of the first entry\n",
    "    print(number_plate_data[0])"
   ]
  },
  {
   "cell_type": "code",
   "execution_count": null,
   "id": "172eb6b9-a8a0-4e01-89b6-c7a7650241fd",
   "metadata": {},
   "outputs": [],
   "source": []
  }
 ],
 "metadata": {
  "kernelspec": {
   "display_name": "Python 3 (ipykernel)",
   "language": "python",
   "name": "python3"
  },
  "language_info": {
   "codemirror_mode": {
    "name": "ipython",
    "version": 3
   },
   "file_extension": ".py",
   "mimetype": "text/x-python",
   "name": "python",
   "nbconvert_exporter": "python",
   "pygments_lexer": "ipython3",
   "version": "3.7.16"
  }
 },
 "nbformat": 4,
 "nbformat_minor": 5
}
