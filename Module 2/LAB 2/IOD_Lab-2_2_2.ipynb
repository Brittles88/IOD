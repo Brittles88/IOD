{
 "cells": [
  {
   "cell_type": "markdown",
   "metadata": {
    "id": "Owk-_RSmVbQc"
   },
   "source": [
    "<div>\n",
    "<img src=https://www.institutedata.com/wp-content/uploads/2019/10/iod_h_tp_primary_c.svg width=\"300\">\n",
    "</div>"
   ]
  },
  {
   "cell_type": "markdown",
   "metadata": {
    "id": "8Bf5LD7ZVbQd"
   },
   "source": [
    "# Lab 2.2.2 "
   ]
  },
  {
   "cell_type": "markdown",
   "metadata": {
    "id": "8NTE-h8JVbQe"
   },
   "source": [
    "## Statistical Proof"
   ]
  },
  {
   "cell_type": "markdown",
   "metadata": {
    "id": "dVaASAlxVbQf"
   },
   "source": [
    "### Part 1: Student's t-Test\n",
    "\n",
    "The *t*-test is probably the most used statistical test. It measures the likelihood that a sample belongs to a given distribution, and incorporates a correction for the finite size of the sample.\n",
    "\n",
    "#### Using the t-test to compare two means\n",
    "\n",
    "Here, suppose we have two sets of measurements and we want to know if they both came from the same distribution.\n",
    "\n",
    "For example, in [this](https://archive.ics.uci.edu/ml/machine-learning-databases/housing/housing.data) dataset these could be age of house in one group and median value of house in another group, and we are testing the null hypothesis that there is no difference between the two groups.\n",
    "\n",
    "#### Collect Data\n",
    "\n",
    "You can find the original data [here](https://archive.ics.uci.edu/ml/machine-learning-databases/housing/housing.data).\n",
    "\n",
    "Data dictionary is available [here](https://www.cs.toronto.edu/~delve/data/boston/bostonDetail.html)."
   ]
  },
  {
   "cell_type": "code",
<<<<<<< HEAD
   "execution_count": 36,
=======
   "execution_count": null,
>>>>>>> main
   "metadata": {
    "id": "K1gDvR8WVbQf"
   },
   "outputs": [],
   "source": [
    "import pandas as pd\n",
    "import numpy as np\n",
    "import math\n",
    "import seaborn as sns\n",
    "import pandas as pd\n",
    "\n",
    "from scipy import stats\n",
    "from matplotlib import pyplot as plt\n",
    "\n",
    "%matplotlib inline"
   ]
  },
  {
   "cell_type": "code",
<<<<<<< HEAD
   "execution_count": 37,
=======
   "execution_count": null,
>>>>>>> main
   "metadata": {
    "id": "tpDR7frKVbQi"
   },
   "outputs": [],
   "source": [
    "names = [\"CRIM\", \"ZN\", \"INDUS\", \"CHAS\", \"NOX\", \"RM\", \"AGE\", \"DIS\", \"RAD\", \"TAX\", \"PTRATIO\", \"B\", \"LSTAT\", \"MEDV\"]\n",
<<<<<<< HEAD
    "data = pd.read_csv(\"../../DATA/housing.data\", header = None, delim_whitespace = True, names = names)"
=======
    "data = pd.read_csv(\"housing.data\", header=None, names=names, delim_whitespace=True)"
>>>>>>> main
   ]
  },
  {
   "cell_type": "code",
<<<<<<< HEAD
   "execution_count": 3,
   "metadata": {
    "id": "ySJiFaU2VbQk"
   },
   "outputs": [
    {
     "data": {
      "text/html": [
       "<div>\n",
       "<style scoped>\n",
       "    .dataframe tbody tr th:only-of-type {\n",
       "        vertical-align: middle;\n",
       "    }\n",
       "\n",
       "    .dataframe tbody tr th {\n",
       "        vertical-align: top;\n",
       "    }\n",
       "\n",
       "    .dataframe thead th {\n",
       "        text-align: right;\n",
       "    }\n",
       "</style>\n",
       "<table border=\"1\" class=\"dataframe\">\n",
       "  <thead>\n",
       "    <tr style=\"text-align: right;\">\n",
       "      <th></th>\n",
       "      <th>CRIM</th>\n",
       "      <th>ZN</th>\n",
       "      <th>INDUS</th>\n",
       "      <th>CHAS</th>\n",
       "      <th>NOX</th>\n",
       "      <th>RM</th>\n",
       "      <th>AGE</th>\n",
       "      <th>DIS</th>\n",
       "      <th>RAD</th>\n",
       "      <th>TAX</th>\n",
       "      <th>PTRATIO</th>\n",
       "      <th>B</th>\n",
       "      <th>LSTAT</th>\n",
       "      <th>MEDV</th>\n",
       "    </tr>\n",
       "  </thead>\n",
       "  <tbody>\n",
       "    <tr>\n",
       "      <th>0</th>\n",
       "      <td>0.00632</td>\n",
       "      <td>18.0</td>\n",
       "      <td>2.31</td>\n",
       "      <td>0</td>\n",
       "      <td>0.538</td>\n",
       "      <td>6.575</td>\n",
       "      <td>65.2</td>\n",
       "      <td>4.0900</td>\n",
       "      <td>1</td>\n",
       "      <td>296.0</td>\n",
       "      <td>15.3</td>\n",
       "      <td>396.90</td>\n",
       "      <td>4.98</td>\n",
       "      <td>24.0</td>\n",
       "    </tr>\n",
       "    <tr>\n",
       "      <th>1</th>\n",
       "      <td>0.02731</td>\n",
       "      <td>0.0</td>\n",
       "      <td>7.07</td>\n",
       "      <td>0</td>\n",
       "      <td>0.469</td>\n",
       "      <td>6.421</td>\n",
       "      <td>78.9</td>\n",
       "      <td>4.9671</td>\n",
       "      <td>2</td>\n",
       "      <td>242.0</td>\n",
       "      <td>17.8</td>\n",
       "      <td>396.90</td>\n",
       "      <td>9.14</td>\n",
       "      <td>21.6</td>\n",
       "    </tr>\n",
       "    <tr>\n",
       "      <th>2</th>\n",
       "      <td>0.02729</td>\n",
       "      <td>0.0</td>\n",
       "      <td>7.07</td>\n",
       "      <td>0</td>\n",
       "      <td>0.469</td>\n",
       "      <td>7.185</td>\n",
       "      <td>61.1</td>\n",
       "      <td>4.9671</td>\n",
       "      <td>2</td>\n",
       "      <td>242.0</td>\n",
       "      <td>17.8</td>\n",
       "      <td>392.83</td>\n",
       "      <td>4.03</td>\n",
       "      <td>34.7</td>\n",
       "    </tr>\n",
       "    <tr>\n",
       "      <th>3</th>\n",
       "      <td>0.03237</td>\n",
       "      <td>0.0</td>\n",
       "      <td>2.18</td>\n",
       "      <td>0</td>\n",
       "      <td>0.458</td>\n",
       "      <td>6.998</td>\n",
       "      <td>45.8</td>\n",
       "      <td>6.0622</td>\n",
       "      <td>3</td>\n",
       "      <td>222.0</td>\n",
       "      <td>18.7</td>\n",
       "      <td>394.63</td>\n",
       "      <td>2.94</td>\n",
       "      <td>33.4</td>\n",
       "    </tr>\n",
       "    <tr>\n",
       "      <th>4</th>\n",
       "      <td>0.06905</td>\n",
       "      <td>0.0</td>\n",
       "      <td>2.18</td>\n",
       "      <td>0</td>\n",
       "      <td>0.458</td>\n",
       "      <td>7.147</td>\n",
       "      <td>54.2</td>\n",
       "      <td>6.0622</td>\n",
       "      <td>3</td>\n",
       "      <td>222.0</td>\n",
       "      <td>18.7</td>\n",
       "      <td>396.90</td>\n",
       "      <td>5.33</td>\n",
       "      <td>36.2</td>\n",
       "    </tr>\n",
       "  </tbody>\n",
       "</table>\n",
       "</div>"
      ],
      "text/plain": [
       "      CRIM    ZN  INDUS  CHAS    NOX     RM   AGE     DIS  RAD    TAX  \\\n",
       "0  0.00632  18.0   2.31     0  0.538  6.575  65.2  4.0900    1  296.0   \n",
       "1  0.02731   0.0   7.07     0  0.469  6.421  78.9  4.9671    2  242.0   \n",
       "2  0.02729   0.0   7.07     0  0.469  7.185  61.1  4.9671    2  242.0   \n",
       "3  0.03237   0.0   2.18     0  0.458  6.998  45.8  6.0622    3  222.0   \n",
       "4  0.06905   0.0   2.18     0  0.458  7.147  54.2  6.0622    3  222.0   \n",
       "\n",
       "   PTRATIO       B  LSTAT  MEDV  \n",
       "0     15.3  396.90   4.98  24.0  \n",
       "1     17.8  396.90   9.14  21.6  \n",
       "2     17.8  392.83   4.03  34.7  \n",
       "3     18.7  394.63   2.94  33.4  \n",
       "4     18.7  396.90   5.33  36.2  "
      ]
     },
     "execution_count": 3,
     "metadata": {},
     "output_type": "execute_result"
    }
   ],
   "source": [
    "# Head\n",
    "data.head()"
=======
   "execution_count": null,
   "metadata": {
    "id": "ySJiFaU2VbQk"
   },
   "outputs": [],
   "source": [
    "# Head"
>>>>>>> main
   ]
  },
  {
   "cell_type": "code",
<<<<<<< HEAD
   "execution_count": 4,
   "metadata": {
    "id": "d0scc4_kVbQm"
   },
   "outputs": [
    {
     "data": {
      "text/plain": [
       "(506, 14)"
      ]
     },
     "execution_count": 4,
     "metadata": {},
     "output_type": "execute_result"
    }
   ],
   "source": [
    "# Shape\n",
    "data.shape"
   ]
  },
  {
   "cell_type": "code",
   "execution_count": 5,
   "metadata": {},
   "outputs": [
    {
     "name": "stdout",
     "output_type": "stream",
     "text": [
      "<class 'pandas.core.frame.DataFrame'>\n",
      "RangeIndex: 506 entries, 0 to 505\n",
      "Data columns (total 14 columns):\n",
      " #   Column   Non-Null Count  Dtype  \n",
      "---  ------   --------------  -----  \n",
      " 0   CRIM     506 non-null    float64\n",
      " 1   ZN       506 non-null    float64\n",
      " 2   INDUS    506 non-null    float64\n",
      " 3   CHAS     506 non-null    int64  \n",
      " 4   NOX      506 non-null    float64\n",
      " 5   RM       506 non-null    float64\n",
      " 6   AGE      506 non-null    float64\n",
      " 7   DIS      506 non-null    float64\n",
      " 8   RAD      506 non-null    int64  \n",
      " 9   TAX      506 non-null    float64\n",
      " 10  PTRATIO  506 non-null    float64\n",
      " 11  B        506 non-null    float64\n",
      " 12  LSTAT    506 non-null    float64\n",
      " 13  MEDV     506 non-null    float64\n",
      "dtypes: float64(12), int64(2)\n",
      "memory usage: 55.5 KB\n"
     ]
    }
   ],
   "source": [
    "data.info()"
=======
   "execution_count": null,
   "metadata": {
    "id": "d0scc4_kVbQm"
   },
   "outputs": [],
   "source": [
    "# Shape"
>>>>>>> main
   ]
  },
  {
   "cell_type": "markdown",
   "metadata": {
    "id": "nuyPT527VbQo"
   },
   "source": [
    "##### 1. Plot Histogram of `RM`"
   ]
  },
  {
   "cell_type": "code",
<<<<<<< HEAD
   "execution_count": 6,
   "metadata": {
    "id": "13SA_biyVbQp"
   },
   "outputs": [
    {
     "data": {
      "image/png": "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\n",
      "text/plain": [
       "<Figure size 640x480 with 1 Axes>"
      ]
     },
     "metadata": {},
     "output_type": "display_data"
    }
   ],
   "source": [
    "#  ANSWER\n",
    "plt.hist(data['RM'], bins=29, edgecolor='black')\n",
    "plt.show()"
   ]
  },
  {
   "cell_type": "code",
   "execution_count": 7,
   "metadata": {},
   "outputs": [
    {
     "data": {
      "image/png": "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\n",
      "text/plain": [
       "<Figure size 500x500 with 1 Axes>"
      ]
     },
     "metadata": {},
     "output_type": "display_data"
    }
   ],
   "source": [
    "sns.displot(x = 'RM', data = data, color = 'pink')\n",
    "plt.title('RM Distribution')\n",
    "plt.show()"
   ]
  },
  {
   "cell_type": "code",
   "execution_count": 8,
   "metadata": {},
   "outputs": [
    {
     "data": {
      "text/plain": [
       "(3.921, 4.101]     0\n",
       "(8.42, 8.6]        0\n",
       "(3.555, 3.741]     1\n",
       "(3.741, 3.921]     1\n",
       "(4.281, 4.461]     1\n",
       "(4.641, 4.821]     1\n",
       "(8.06, 8.24]       1\n",
       "(4.101, 4.281]     2\n",
       "(4.461, 4.641]     2\n",
       "(8.6, 8.78]        3\n",
       "(7.88, 8.06]       4\n",
       "(7.52, 7.7]        4\n",
       "(5.001, 5.181]     5\n",
       "(8.24, 8.42]       7\n",
       "(7.7, 7.88]        7\n",
       "(5.181, 5.361]     7\n",
       "(4.821, 5.001]     8\n",
       "(7.34, 7.52]       9\n",
       "(7.16, 7.34]      15\n",
       "(6.98, 7.16]      16\n",
       "(5.361, 5.541]    17\n",
       "(6.8, 6.98]       26\n",
       "(5.541, 5.721]    34\n",
       "(6.62, 6.8]       35\n",
       "(6.44, 6.62]      42\n",
       "(5.721, 5.901]    56\n",
       "(6.26, 6.44]      62\n",
       "(5.901, 6.081]    65\n",
       "(6.081, 6.26]     75\n",
       "Name: RM, dtype: int64"
      ]
     },
     "execution_count": 8,
     "metadata": {},
     "output_type": "execute_result"
    }
   ],
   "source": [
    "data.RM.value_counts(ascending = True, bins =29)"
   ]
  },
  {
   "cell_type": "code",
   "execution_count": 9,
   "metadata": {},
   "outputs": [
    {
     "data": {
      "text/plain": [
       "5.713    3\n",
       "6.167    3\n",
       "6.127    3\n",
       "6.229    3\n",
       "6.405    3\n",
       "        ..\n",
       "5.859    1\n",
       "6.416    1\n",
       "5.572    1\n",
       "5.880    1\n",
       "6.976    1\n",
       "Name: RM, Length: 446, dtype: int64"
      ]
     },
     "execution_count": 9,
     "metadata": {},
     "output_type": "execute_result"
    }
   ],
   "source": [
    "data.RM.value_counts()"
=======
   "execution_count": null,
   "metadata": {
    "id": "13SA_biyVbQp"
   },
   "outputs": [],
   "source": [
    "#  ANSWER"
>>>>>>> main
   ]
  },
  {
   "cell_type": "markdown",
   "metadata": {
    "id": "dhLlLDPYVbQr"
   },
   "source": [
    "##### 2. Plot Histogram of `MEDV`"
   ]
  },
  {
   "cell_type": "code",
<<<<<<< HEAD
   "execution_count": 10,
   "metadata": {
    "id": "kgDOrdZGVbQs"
   },
   "outputs": [
    {
     "data": {
      "image/png": "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\n",
      "text/plain": [
       "<Figure size 640x480 with 1 Axes>"
      ]
     },
     "metadata": {},
     "output_type": "display_data"
    }
   ],
   "source": [
    "# ANSWER\n",
    "plt.hist(data['MEDV'], bins=10, edgecolor='black')\n",
    "plt.show()"
   ]
  },
  {
   "cell_type": "code",
   "execution_count": 11,
   "metadata": {},
   "outputs": [
    {
     "data": {
      "text/plain": [
       "50.0    16\n",
       "25.0     8\n",
       "22.0     7\n",
       "21.7     7\n",
       "23.1     7\n",
       "        ..\n",
       "32.9     1\n",
       "34.6     1\n",
       "30.3     1\n",
       "33.3     1\n",
       "8.1      1\n",
       "Name: MEDV, Length: 229, dtype: int64"
      ]
     },
     "execution_count": 11,
     "metadata": {},
     "output_type": "execute_result"
    }
   ],
   "source": [
    "data.MEDV.value_counts()"
=======
   "execution_count": null,
   "metadata": {
    "id": "kgDOrdZGVbQs"
   },
   "outputs": [],
   "source": [
    "# ANSWER"
>>>>>>> main
   ]
  },
  {
   "cell_type": "markdown",
   "metadata": {
    "id": "4Gt-bOwoVbQu"
   },
   "source": [
    "##### 3.A Draw Scatter Plot of `RM` & `MEDV`"
   ]
  },
  {
   "cell_type": "code",
<<<<<<< HEAD
   "execution_count": 12,
   "metadata": {
    "id": "5biDWDUcVbQu"
   },
   "outputs": [
    {
     "data": {
      "image/png": "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\n",
      "text/plain": [
       "<Figure size 500x500 with 1 Axes>"
      ]
     },
     "metadata": {},
     "output_type": "display_data"
    }
   ],
   "source": [
    "# ANSWER\n",
    "from sklearn.metrics import r2_score \n",
    "\n",
    "sns.lmplot(x=\"RM\", y=\"MEDV\", data=data);"
   ]
  },
  {
   "cell_type": "code",
   "execution_count": 13,
   "metadata": {},
   "outputs": [
    {
     "data": {
      "text/plain": [
       "6.284634387351787"
      ]
     },
     "execution_count": 13,
     "metadata": {},
     "output_type": "execute_result"
    }
   ],
   "source": [
    "data['RM'].mean()"
=======
   "execution_count": null,
   "metadata": {
    "id": "5biDWDUcVbQu"
   },
   "outputs": [],
   "source": [
    "# ANSWER"
>>>>>>> main
   ]
  },
  {
   "cell_type": "markdown",
   "metadata": {
    "id": "AtenHV2AVbQw"
   },
   "source": [
    "##### 3.B Is there any trend? State your observation."
   ]
  },
  {
   "cell_type": "markdown",
   "metadata": {
    "id": "B1Nsn8LVVbQx"
   },
   "source": [
    "**ANSWER:**: ..."
   ]
  },
  {
   "cell_type": "markdown",
   "metadata": {
    "id": "y03aU6p5VbQy"
   },
   "source": [
    "We'll be using following steps:\n",
    "\n",
    "- Define hypothesis\n",
    "- Set alpha (Let alpha = 0.05)\n",
    "- Calculate point estimate\n",
    "- Calculate test statistic\n",
    "- Find the p-value\n",
    "- Interpret results"
   ]
  },
  {
   "cell_type": "markdown",
   "metadata": {
    "id": "vOUCadVJVbQy"
   },
   "source": [
    "##### 4. Define Hypothesis\n",
    "\n",
    "Let's assume if `RM` of house is more than 6, they are large house. Other houses are small. Price of houses increases when the `RM` increases.\n",
    "\n",
    "**ANSWER:**\n",
    "\n",
    "    H0: There is no difference between distribution of `Large House` & `Small House`\n",
    "    H1: There is difference between distribution of `Large House` & `Small House`\n",
    "    \n",
    "**[Note]** _If you want you can explore the dataset and define different hypothesis._"
   ]
  },
  {
   "cell_type": "markdown",
   "metadata": {
    "id": "s-enrQ2SVbQz"
   },
   "source": [
    "##### 5. Set alpha (Let alpha = 0.05)"
   ]
  },
  {
   "cell_type": "markdown",
   "metadata": {
    "id": "hHliQn5zVbQ0"
   },
   "source": [
    "First, we should specify our criterion for statistical significance. Traditionally, we allow for no more than a 1-in-20 chance of a spurious rejection of the null hypothesis:"
   ]
  },
  {
   "cell_type": "code",
<<<<<<< HEAD
   "execution_count": 14,
=======
   "execution_count": null,
>>>>>>> main
   "metadata": {
    "id": "a8aZM8buVbQ0"
   },
   "outputs": [],
   "source": [
<<<<<<< HEAD
    "# ANSWER\n",
    "alpha = 0.05"
=======
    "# ANSWER"
>>>>>>> main
   ]
  },
  {
   "cell_type": "markdown",
   "metadata": {
    "id": "tQUl-zrRVbQ2"
   },
   "source": [
    "##### 6. Set Data\n",
    "\n",
    "Now, let's create two sets of data \n",
    "- Large House: House which have more than 6 rooms.\n",
    "- Small House: House which have less than 6 rooms.\n",
    "\n",
    "Take sample of 100 house in each dataste."
   ]
  },
  {
   "cell_type": "code",
<<<<<<< HEAD
   "execution_count": 15,
   "metadata": {},
   "outputs": [],
   "source": [
    "N = 100\n",
    "medv_over_6 = data[data.RM > 6]['MEDV'].sample(N)\n",
    "medv_under_6 = data[data.RM <= 6]['MEDV'].sample(N)"
   ]
  },
  {
   "cell_type": "code",
   "execution_count": 16,
=======
   "execution_count": null,
>>>>>>> main
   "metadata": {
    "id": "AX-ycxPFVbQ3"
   },
   "outputs": [],
   "source": [
<<<<<<< HEAD
    "# ANSWER\n",
    "N = 100\n",
    "medv_over_6 = data[data['RM'] > 6]['MEDV'].sample(N)\n",
    "medv_under_6 = data[data['RM'] <= 6]['MEDV'].sample(N)"
=======
    "# ANSWER"
>>>>>>> main
   ]
  },
  {
   "cell_type": "markdown",
   "metadata": {
    "id": "uyXzqCI3VbQ5"
   },
   "source": [
    "##### 6.A [BONUS] Build histogram for both `Large House` & `Small House`"
   ]
  },
  {
   "cell_type": "code",
<<<<<<< HEAD
   "execution_count": 17,
   "metadata": {
    "id": "USRdEfwzVbQ5"
   },
   "outputs": [
    {
     "name": "stderr",
     "output_type": "stream",
     "text": [
      "C:\\Users\\britn\\anaconda3\\envs\\iod\\lib\\site-packages\\ipykernel_launcher.py:2: UserWarning: \n",
      "\n",
      "`distplot` is a deprecated function and will be removed in seaborn v0.14.0.\n",
      "\n",
      "Please adapt your code to use either `displot` (a figure-level function with\n",
      "similar flexibility) or `histplot` (an axes-level function for histograms).\n",
      "\n",
      "For a guide to updating your code to use the new functions, please see\n",
      "https://gist.github.com/mwaskom/de44147ed2974457ad6372750bbe5751\n",
      "\n",
      "  \n",
      "C:\\Users\\britn\\anaconda3\\envs\\iod\\lib\\site-packages\\ipykernel_launcher.py:3: UserWarning: \n",
      "\n",
      "`distplot` is a deprecated function and will be removed in seaborn v0.14.0.\n",
      "\n",
      "Please adapt your code to use either `displot` (a figure-level function with\n",
      "similar flexibility) or `histplot` (an axes-level function for histograms).\n",
      "\n",
      "For a guide to updating your code to use the new functions, please see\n",
      "https://gist.github.com/mwaskom/de44147ed2974457ad6372750bbe5751\n",
      "\n",
      "  This is separate from the ipykernel package so we can avoid doing imports until\n"
     ]
    },
    {
     "data": {
      "image/png": "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\n",
      "text/plain": [
       "<Figure size 640x480 with 1 Axes>"
      ]
     },
     "metadata": {},
     "output_type": "display_data"
    }
   ],
   "source": [
    "# ANSWER\n",
    "ax = sns.distplot(medv_over_6, label='Large House');\n",
    "sns.distplot(medv_under_6, ax=ax, label='Small House');\n",
    "plt.legend(loc = 'upper right')\n",
    "plt.xlabel('')\n",
    "plt.ylabel('')\n",
    "plt.show();"
=======
   "execution_count": null,
   "metadata": {
    "id": "USRdEfwzVbQ5"
   },
   "outputs": [],
   "source": [
    "# ANSWER"
>>>>>>> main
   ]
  },
  {
   "cell_type": "markdown",
   "metadata": {
    "id": "ms7hKNqwVbQ7"
   },
   "source": [
    "##### 7. Calculate Variance"
   ]
  },
  {
   "cell_type": "markdown",
   "metadata": {
    "id": "j_qyruX-VbQ8"
   },
   "source": [
    "Calculate variance for both samples."
   ]
  },
  {
   "cell_type": "code",
<<<<<<< HEAD
   "execution_count": 18,
   "metadata": {
    "id": "u8io49nQVbQ9"
   },
   "outputs": [
    {
     "name": "stdout",
     "output_type": "stream",
     "text": [
      "101.59967272727276\n",
      "36.32275858585861\n"
     ]
    }
   ],
   "source": [
    "# ANSWER\n",
    "var_medv_over_6 = medv_over_6.var()\n",
    "print(var_medv_over_6)\n",
    "var_medv_under_6 = medv_under_6.var()\n",
    "print(var_medv_under_6)"
   ]
  },
  {
   "cell_type": "code",
   "execution_count": 19,
   "metadata": {},
   "outputs": [
    {
     "data": {
      "text/plain": [
       "101.59967272727276"
      ]
     },
     "execution_count": 19,
     "metadata": {},
     "output_type": "execute_result"
    }
   ],
   "source": [
    "# ddof should be 1\n",
    "np.var(medv_over_6, ddof = 1)"
=======
   "execution_count": null,
   "metadata": {
    "id": "u8io49nQVbQ9"
   },
   "outputs": [],
   "source": [
    "# ANSWER"
>>>>>>> main
   ]
  },
  {
   "cell_type": "markdown",
   "metadata": {
    "id": "be5deiNaVbQ_"
   },
   "source": [
    "##### 8. Calculate Standard Deviation"
   ]
  },
  {
   "cell_type": "markdown",
   "metadata": {
    "id": "mZTeLmbLVbQ_"
   },
   "source": [
    "\n",
    "Because we are dealing with two samples we need to compute the joint standard deviation. \n",
    "\n",
    "Here sp is the pooled standard deviation for n = n1 = n2 and s^2\n",
    "X1 and s^2 X2 are the unbiased estimators of the variances of the two samples."
   ]
  },
  {
   "cell_type": "markdown",
   "metadata": {
    "id": "6-vBbtOBVbRA"
   },
   "source": [
    "![](https://wikimedia.org/api/rest_v1/media/math/render/svg/f63e99c30c01445668ea2cce9832da0f6810cb4b)"
   ]
  },
  {
   "cell_type": "code",
<<<<<<< HEAD
   "execution_count": 20,
   "metadata": {
    "id": "Fj_T37yqVbRB"
   },
   "outputs": [
    {
     "name": "stdout",
     "output_type": "stream",
     "text": [
      "std dev: 8.304288991633522\n"
     ]
    }
   ],
   "source": [
    "# ANSWER\n",
    "std = np.sqrt((var_medv_over_6 + var_medv_under_6) / 2)\n",
    "print('std dev:', std)"
=======
   "execution_count": null,
   "metadata": {
    "id": "Fj_T37yqVbRB"
   },
   "outputs": [],
   "source": [
    "# ANSWER"
>>>>>>> main
   ]
  },
  {
   "cell_type": "markdown",
   "metadata": {
    "id": "-i2iWoxDVbRD"
   },
   "source": [
    "##### 9. Calculate test statistic"
   ]
  },
  {
   "cell_type": "markdown",
   "metadata": {
    "id": "UZXbRIJnVbRE"
   },
   "source": [
    "The *t*-statistic depends on the difference between the sample means and their joint standard deviation:\n",
    "\n",
    "![](https://wikimedia.org/api/rest_v1/media/math/render/svg/070d365e1b347ea5f83f0147043868fa120b6646)\n"
   ]
  },
  {
   "cell_type": "code",
<<<<<<< HEAD
   "execution_count": 21,
   "metadata": {
    "id": "tIlDIlpJVbRF"
   },
   "outputs": [
    {
     "name": "stdout",
     "output_type": "stream",
     "text": [
      "t: 6.19974145770488\n"
     ]
    }
   ],
   "source": [
    "# ANSWER\n",
    "t = (medv_over_6.mean() - medv_under_6.mean()) / (std * np.sqrt(2 / N))  # t-statistic\n",
    "print('t:', t)"
=======
   "execution_count": null,
   "metadata": {
    "id": "tIlDIlpJVbRF"
   },
   "outputs": [],
   "source": [
    "# ANSWER"
>>>>>>> main
   ]
  },
  {
   "cell_type": "markdown",
   "metadata": {
    "id": "kwbh94u3VbRI"
   },
   "source": [
    "##### 10. Calculate Degree of Freedom\n",
    "\n",
    "The number of degrees of freedom is the total number of samples (here, this is N from each set) minus the number of statistics in the computation (1 for each sample mean):"
   ]
  },
  {
   "cell_type": "code",
<<<<<<< HEAD
   "execution_count": 22,
   "metadata": {
    "id": "jAD7bJgDVbRJ"
   },
   "outputs": [
    {
     "data": {
      "text/plain": [
       "198"
      ]
     },
     "execution_count": 22,
     "metadata": {},
     "output_type": "execute_result"
    }
   ],
   "source": [
    "# ANSWER\n",
    "df = 2 * N - 2\n",
    "df"
=======
   "execution_count": null,
   "metadata": {
    "id": "jAD7bJgDVbRJ"
   },
   "outputs": [],
   "source": [
    "# ANSWER"
>>>>>>> main
   ]
  },
  {
   "cell_type": "markdown",
   "metadata": {
    "id": "11iYZzMwVbRO"
   },
   "source": [
    "##### 11. Find the p-value"
   ]
  },
  {
   "cell_type": "markdown",
   "metadata": {
    "id": "s0_VbRKjVbRP"
   },
   "source": [
    "Now we can compute the probability of the above *t*-statistic from the cumulative density function:\n",
    "\n",
    "> stats.t.cdf\n",
    "\n",
    "> p_value = 1 - cdf(t) "
   ]
  },
  {
   "cell_type": "code",
<<<<<<< HEAD
   "execution_count": 23,
   "metadata": {
    "id": "ufIYKyPtVbRR"
   },
   "outputs": [
    {
     "name": "stdout",
     "output_type": "stream",
     "text": [
      "t = 6.19974145770488\n",
      "p = 3.228910694375031e-09\n"
     ]
    }
   ],
   "source": [
    "# ANSWER\n",
    "p = 1 - stats.t.cdf(abs(t), df=df)  # #p-value after comparison with the t \n",
    "print(\"t = \" + str(t))\n",
    "print(f\"p = {p*2}\")"
=======
   "execution_count": null,
   "metadata": {
    "id": "ufIYKyPtVbRR"
   },
   "outputs": [],
   "source": [
    "# ANSWER"
>>>>>>> main
   ]
  },
  {
   "cell_type": "markdown",
   "metadata": {
    "id": "8hLb8Ld3VbRU"
   },
   "source": [
    "#### Interpret results"
   ]
  },
  {
   "cell_type": "markdown",
   "metadata": {
    "id": "JVfad_eSVbRV"
   },
   "source": [
    "##### 12. Write a Function to Test Significance of `p_value`\n",
    "\n",
    "Write a funtion which will take p_value and alpha as input. If p_value < alpha, print reject null hypothesis message. Otherwise print a fail to reject null hypothesis message. "
   ]
  },
  {
   "cell_type": "code",
<<<<<<< HEAD
   "execution_count": 24,
=======
   "execution_count": null,
>>>>>>> main
   "metadata": {
    "id": "j0kBcmDKVbRV"
   },
   "outputs": [],
   "source": [
<<<<<<< HEAD
    "# ANSWER\n",
    "null_hypothesis = {\n",
    "    'H0': \"House price does not increase for large house.\"\n",
    "    , 'H1': \"House price increases for large house.\"\n",
    "}"
=======
    "# ANSWER"
>>>>>>> main
   ]
  },
  {
   "cell_type": "code",
<<<<<<< HEAD
   "execution_count": 25,
=======
   "execution_count": null,
>>>>>>> main
   "metadata": {
    "id": "Ou6bXSa4VbRX"
   },
   "outputs": [],
   "source": [
<<<<<<< HEAD
    "# ANSWER\n",
    "def print_sig(p_value, alpha):\n",
    "    '''\n",
    "    Inputs:\n",
    "    p_value: Calculated p_value\n",
    "    alpha: Confidence level\n",
    "    '''\n",
    "    if p_value < alpha:\n",
    "        print(\"We reject our null hypothesis.\")\n",
    "        print(null_hypothesis['H1'])\n",
    "    elif p_value > alpha:\n",
    "        print(\"We fail to reject our null hypothesis.\")\n",
    "        print(null_hypothesis['H0'])\n",
    "    else:\n",
    "        print(\"Our test is inconclusive.\")"
=======
    "# ANSWER"
>>>>>>> main
   ]
  },
  {
   "cell_type": "code",
<<<<<<< HEAD
   "execution_count": 26,
   "metadata": {
    "id": "fR1t5P69VbRZ"
   },
   "outputs": [
    {
     "name": "stdout",
     "output_type": "stream",
     "text": [
      "t = 6.19974145770488\n",
      "p = 1.6144553471875156e-09\n",
      "We reject our null hypothesis.\n",
      "House price increases for large house.\n"
     ]
    }
   ],
   "source": [
    "# ANSWER\n",
    "print(\"t = \" + str(t))\n",
    "print(\"p = \" + str(p))\n",
    "print_sig(p, alpha)"
=======
   "execution_count": null,
   "metadata": {
    "id": "fR1t5P69VbRZ"
   },
   "outputs": [],
   "source": [
    "# ANSWER"
>>>>>>> main
   ]
  },
  {
   "cell_type": "markdown",
   "metadata": {
    "id": "nrs0gOXeVbRl"
   },
   "source": [
    "##### 13. [Bonus] Write a function to calculate t, p_value from two samples.\n",
    "\n",
    "Calculate the T-test for the means of *two independent* samples of scores.\n",
    "\n",
    "This is a two-sided test for the null hypothesis that 2 independent samples\n",
    "have identical average (expected) values."
   ]
  },
  {
   "cell_type": "code",
<<<<<<< HEAD
   "execution_count": 27,
=======
   "execution_count": null,
>>>>>>> main
   "metadata": {
    "id": "Mnan5sf_VbRm"
   },
   "outputs": [],
   "source": [
<<<<<<< HEAD
    "# ANSWER\n",
    "def check_sig(p_value, alpha):\n",
    "    '''\n",
    "    Inputs:\n",
    "    p_value: Calculated p_value\n",
    "    alpha: Confidence level\n",
    "    \n",
    "    Returns:\n",
    "    Significance message\n",
    "    '''\n",
    "    \n",
    "    str_result = ''\n",
    "    \n",
    "    if p_value < alpha:\n",
    "        str_result = \"We reject our null hypothesis.\"\n",
    "        str_result += '\\n'\n",
    "        str_result += null_hypothesis['H1']\n",
    "    elif p_value > alpha:\n",
    "        str_result = \"We fail to reject our null hypothesis.\"\n",
    "        str_result += '\\n'\n",
    "        str_result += null_hypothesis['H1']\n",
    "    else:\n",
    "        str_result = \"Our test is inconclusive.\"\n",
    "    \n",
    "    return str_result"
   ]
  },
  {
   "cell_type": "code",
   "execution_count": 28,
   "metadata": {},
   "outputs": [],
   "source": [
    "def ttest_ind(a, b, alpha=0.05):\n",
    "    '''\n",
    "    a, b: The arrays must have the same shape\n",
    "    alpha: value of alpha\n",
    "    '''\n",
    "    N = len(a)\n",
    "    \n",
    "    # Calculate Variance\n",
    "    var_a = a.var()\n",
    "    var_b = b.var()\n",
    "    \n",
    "    # Calculate Standard Deviation     \n",
    "    std = np.sqrt((var_a + var_b) / 2)\n",
    "    \n",
    "    # Calculate t-stat    \n",
    "    t = (a.mean() - b.mean()) / (std * np.sqrt(2 / N))  # t-statistic\n",
    "    \n",
    "    # Calculate degree of freedom     \n",
    "    df = 2 * N - 2\n",
    "    \n",
    "    # Calculate p-value\n",
    "    p = 1 - stats.t.cdf(abs(t), df=df)  # #p-value after comparison with the t\n",
    "    # Two-tail     \n",
    "    p = p * 2\n",
    "    \n",
    "    return t, p, check_sig(p, alpha)"
   ]
  },
  {
   "cell_type": "code",
   "execution_count": 34,
   "metadata": {},
   "outputs": [
    {
     "name": "stdout",
     "output_type": "stream",
     "text": [
      "t = 6.19974145770488\n",
      "p = 3.228910694375031e-09\n",
      "We reject our null hypothesis.\n",
      "House price increases for large house.\n"
     ]
    }
   ],
   "source": [
    "t, p, sig = ttest_ind(medv_over_6, medv_under_6, alpha)\n",
    "print(\"t = \" + str(t))\n",
    "print(\"p = \" + str(p))\n",
    "print(sig)"
=======
    "# ANSWER"
>>>>>>> main
   ]
  },
  {
   "cell_type": "markdown",
   "metadata": {
    "id": "tyNc67_FVbRn"
   },
   "source": [
    "#### Use `Stats` Package"
   ]
  },
  {
   "cell_type": "markdown",
   "metadata": {
    "id": "wqAeZgizVbRo"
   },
   "source": [
    "##### 14. Calculate the T-test for the means of *two independent* samples of scores\n",
    "\n",
    "using following method of stats calculate the T-test for the means of two independent samples of scores.\n",
    "\n",
    "> ttest_ind"
   ]
  },
  {
   "cell_type": "code",
<<<<<<< HEAD
   "execution_count": 35,
   "metadata": {
    "id": "HJgti3wYVbRp"
   },
   "outputs": [
    {
     "name": "stdout",
     "output_type": "stream",
     "text": [
      "t = 6.199741457704872\n",
      "p = 3.228910547770066e-09\n"
     ]
    },
    {
     "data": {
      "text/plain": [
       "'We reject our null hypothesis.\\nHouse price increases for large house.'"
      ]
     },
     "execution_count": 35,
     "metadata": {},
     "output_type": "execute_result"
    }
   ],
   "source": [
    "# ANSWER\n",
    "t2, p2 = stats.ttest_ind(medv_over_6, medv_under_6)\n",
    "print(\"t = \" + str(t2))\n",
    "print(\"p = \" + str(p2))\n",
    "check_sig(p2, alpha)"
=======
   "execution_count": null,
   "metadata": {
    "id": "HJgti3wYVbRp"
   },
   "outputs": [],
   "source": [
    "# ANSWER"
>>>>>>> main
   ]
  },
  {
   "cell_type": "markdown",
   "metadata": {
    "id": "ttzF17-GVbRq"
   },
   "source": [
    "\n",
    "\n",
    "---\n",
    "\n",
    "\n",
    "\n",
    "---\n",
    "\n",
    "\n",
    "\n",
    "> > > > > > > > > © 2023 Institute of Data\n",
    "\n",
    "\n",
    "---\n",
    "\n",
    "\n",
    "\n",
    "---\n",
    "\n",
    "\n",
    "\n"
   ]
  }
 ],
 "metadata": {
  "colab": {
   "provenance": []
  },
  "kernelspec": {
   "display_name": "Python 3 (ipykernel)",
   "language": "python",
   "name": "python3"
  },
  "language_info": {
   "codemirror_mode": {
    "name": "ipython",
    "version": 3
   },
   "file_extension": ".py",
   "mimetype": "text/x-python",
   "name": "python",
   "nbconvert_exporter": "python",
   "pygments_lexer": "ipython3",
   "version": "3.7.16"
  }
 },
 "nbformat": 4,
 "nbformat_minor": 4
}
