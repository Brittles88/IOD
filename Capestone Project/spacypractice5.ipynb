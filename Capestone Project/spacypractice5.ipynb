{
 "cells": [
  {
   "cell_type": "code",
   "execution_count": 1,
   "id": "dcd3a18e",
   "metadata": {},
   "outputs": [],
   "source": [
    "import spacy\n",
    "from spacy.matcher import Matcher"
   ]
  },
  {
   "cell_type": "code",
   "execution_count": 2,
   "id": "962dae30",
   "metadata": {},
   "outputs": [],
   "source": [
    "with open (\"../DATA/corpus.txt\", \"r\", encoding=\"utf-8\") as f:\n",
    "    text = f.read()"
   ]
  },
  {
   "cell_type": "code",
   "execution_count": 4,
   "id": "ef103b14",
   "metadata": {},
   "outputs": [
    {
     "name": "stdout",
     "output_type": "stream",
     "text": [
      "__label__2 Stuning even for the non-gamer: This sound track was beautiful! It paints the senery in your mind so well I would recomend it even to people who hate vid. game music! I have played the game Chrono Cross but out of all of the games I have ever played it has the best music! It backs away from crude keyboarding and takes a fresher step with grate guitars and soulful orchestras. It would impress anyone who cares to listen! ^_^\n",
      "__label__2 The best soundtrack ever to anything.: I'm reading a lot of reviews saying that this is the best 'game soundtrack' and I figured that I'd write a review to disagree a bit. This in my opinino is Yasunori Mitsuda's ultimate masterpiece. The music is timeless and I'm been listening to it for years now and its beauty simply refuses to fade.The price tag on this is pretty staggering I must say, but if you are going to buy any cd for this much money, this is the only one that I feel would be worth every penny.\n",
      "__label__2 Amazing!: This soundtrack is m\n"
     ]
    }
   ],
   "source": [
    "print(text[:1000])"
   ]
  },
  {
   "cell_type": "code",
   "execution_count": 6,
   "id": "da689517",
   "metadata": {},
   "outputs": [],
   "source": [
    "nlp = spacy.load(\"en_core_web_sm\")"
   ]
  },
  {
   "cell_type": "code",
   "execution_count": 7,
   "id": "e17d891a",
   "metadata": {},
   "outputs": [],
   "source": [
    "matcher = Matcher(nlp.vocab)"
   ]
  },
  {
   "cell_type": "code",
   "execution_count": 8,
   "id": "90e247c0",
   "metadata": {},
   "outputs": [],
   "source": [
    "pattern = [{\"POS\": \"PROPN\"}]"
   ]
  },
  {
   "cell_type": "code",
   "execution_count": 9,
   "id": "892939a8",
   "metadata": {},
   "outputs": [],
   "source": [
    "matcher.add('PROPER_NOUN', [pattern])"
   ]
  },
  {
   "cell_type": "code",
   "execution_count": 11,
   "id": "e70f6800",
   "metadata": {},
   "outputs": [],
   "source": [
    "doc = nlp(text[:1000])"
   ]
  },
  {
   "cell_type": "code",
   "execution_count": 12,
   "id": "f6149790",
   "metadata": {},
   "outputs": [],
   "source": [
    "matches = matcher(doc)"
   ]
  },
  {
   "cell_type": "code",
   "execution_count": 13,
   "id": "b76019b8",
   "metadata": {},
   "outputs": [
    {
     "name": "stdout",
     "output_type": "stream",
     "text": [
      "7\n"
     ]
    }
   ],
   "source": [
    "print(len(matches))"
   ]
  },
  {
   "cell_type": "code",
   "execution_count": 15,
   "id": "54586223",
   "metadata": {},
   "outputs": [
    {
     "name": "stdout",
     "output_type": "stream",
     "text": [
      "(451313080118390996, 35, 36) vid\n",
      "(451313080118390996, 45, 46) Chrono\n",
      "(451313080118390996, 46, 47) Cross\n",
      "(451313080118390996, 95, 96) label__2\n",
      "(451313080118390996, 140, 141) Yasunori\n",
      "(451313080118390996, 141, 142) Mitsuda\n",
      "(451313080118390996, 212, 213) Amazing\n"
     ]
    }
   ],
   "source": [
    "for match in matches[:10]:\n",
    "    print(match, doc[match[1]:match[2]]) #got all the pronouns but we got individual tokens"
   ]
  },
  {
   "cell_type": "code",
   "execution_count": 16,
   "id": "e80a9e84",
   "metadata": {},
   "outputs": [
    {
     "name": "stdout",
     "output_type": "stream",
     "text": [
      "9\n",
      "(451313080118390996, 35, 36) vid\n",
      "(451313080118390996, 45, 46) Chrono\n",
      "(451313080118390996, 45, 47) Chrono Cross\n",
      "(451313080118390996, 46, 47) Cross\n",
      "(451313080118390996, 95, 96) label__2\n",
      "(451313080118390996, 140, 141) Yasunori\n",
      "(451313080118390996, 140, 142) Yasunori Mitsuda\n",
      "(451313080118390996, 141, 142) Mitsuda\n",
      "(451313080118390996, 212, 213) Amazing\n"
     ]
    }
   ],
   "source": [
    "matcher = Matcher(nlp.vocab)\n",
    "pattern = [{\"POS\": \"PROPN\", \"OP\":\"+\"}]\n",
    "matcher.add('PROPER_NOUN', [pattern])\n",
    "doc = nlp(text[:1000])\n",
    "matches = matcher(doc)\n",
    "print(len(matches))\n",
    "for match in matches[:10]:\n",
    "    print(match, doc[match[1]:match[2]])"
   ]
  },
  {
   "cell_type": "code",
   "execution_count": 22,
   "id": "bd1894dd",
   "metadata": {},
   "outputs": [
    {
     "name": "stdout",
     "output_type": "stream",
     "text": [
      "0\n"
     ]
    }
   ],
   "source": [
    "matcher = Matcher(nlp.vocab)\n",
    "pattern = [{\"POS\": \"PROPN\", \"OP\":\"+\"}, {\"POS\":'VERB'}]\n",
    "matcher.add('PROPER_NOUN', [pattern], greedy = \"LONGEST\")\n",
    "doc = nlp(text[:1000])\n",
    "matches = matcher(doc)\n",
    "matches.sort(key = lambda x: x[1])\n",
    "print(len(matches))\n",
    "for match in matches[:10]:\n",
    "    print(match, doc[match[1]:match[2]]) #where in this text, proper noun where its moved by a verb"
   ]
  },
  {
   "cell_type": "code",
   "execution_count": null,
   "id": "71d6e135",
   "metadata": {},
   "outputs": [],
   "source": []
  }
 ],
 "metadata": {
  "kernelspec": {
   "display_name": "Python 3 (ipykernel)",
   "language": "python",
   "name": "python3"
  },
  "language_info": {
   "codemirror_mode": {
    "name": "ipython",
    "version": 3
   },
   "file_extension": ".py",
   "mimetype": "text/x-python",
   "name": "python",
   "nbconvert_exporter": "python",
   "pygments_lexer": "ipython3",
   "version": "3.7.16"
  }
 },
 "nbformat": 4,
 "nbformat_minor": 5
}
