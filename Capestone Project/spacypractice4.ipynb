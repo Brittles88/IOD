{
 "cells": [
  {
   "cell_type": "code",
   "execution_count": 1,
   "id": "45f6b2d5",
   "metadata": {},
   "outputs": [],
   "source": [
    "import spacy"
   ]
  },
  {
   "cell_type": "code",
   "execution_count": 2,
   "id": "9b283e92",
   "metadata": {},
   "outputs": [],
   "source": [
    "from spacy.matcher import Matcher #is going store information differently, store as a unique/vocab value, not going to store in the doc ends."
   ]
  },
  {
   "cell_type": "code",
   "execution_count": 3,
   "id": "185bc941",
   "metadata": {},
   "outputs": [],
   "source": [
    "#a structure in text, that will help u extract information."
   ]
  },
  {
   "cell_type": "code",
   "execution_count": 4,
   "id": "48e8aa7b",
   "metadata": {},
   "outputs": [],
   "source": [
    "nlp = spacy.load('en_core_web_sm')"
   ]
  },
  {
   "cell_type": "code",
   "execution_count": 5,
   "id": "d7952c83",
   "metadata": {},
   "outputs": [],
   "source": [
    "#we're going to find email address with a text"
   ]
  },
  {
   "cell_type": "code",
   "execution_count": 6,
   "id": "329d7eaf",
   "metadata": {},
   "outputs": [],
   "source": [
    "matcher = Matcher(nlp.vocab)"
   ]
  },
  {
   "cell_type": "code",
   "execution_count": 7,
   "id": "8753d7fa",
   "metadata": {},
   "outputs": [],
   "source": [
    "pattern = [{'LIKE_EMAIL': True}]\n",
    "matcher.add('EMAIL_ADDRESS', [pattern])"
   ]
  },
  {
   "cell_type": "code",
   "execution_count": 9,
   "id": "553d969e",
   "metadata": {},
   "outputs": [],
   "source": [
    "doc = nlp(\"this is an email address: wmattingly@aol.com\")"
   ]
  },
  {
   "cell_type": "code",
   "execution_count": 10,
   "id": "39838a84",
   "metadata": {},
   "outputs": [],
   "source": [
    "matches = matcher(doc)"
   ]
  },
  {
   "cell_type": "code",
   "execution_count": 11,
   "id": "f2a70104",
   "metadata": {},
   "outputs": [
    {
     "name": "stdout",
     "output_type": "stream",
     "text": [
      "[(16571425990740197027, 6, 7)]\n"
     ]
    }
   ],
   "source": [
    "print(matches)"
   ]
  },
  {
   "cell_type": "code",
   "execution_count": 12,
   "id": "80601495",
   "metadata": {},
   "outputs": [],
   "source": [
    "#Lexeme - start token - end token"
   ]
  },
  {
   "cell_type": "code",
   "execution_count": 15,
   "id": "5b87c118",
   "metadata": {},
   "outputs": [
    {
     "name": "stdout",
     "output_type": "stream",
     "text": [
      "EMAIL_ADDRESS\n"
     ]
    }
   ],
   "source": [
    "print(nlp.vocab[matches[0][0]].text)"
   ]
  },
  {
   "cell_type": "code",
   "execution_count": 16,
   "id": "142902d5",
   "metadata": {},
   "outputs": [],
   "source": [
    "#what can we do with the matcher?"
   ]
  }
 ],
 "metadata": {
  "kernelspec": {
   "display_name": "Python 3 (ipykernel)",
   "language": "python",
   "name": "python3"
  },
  "language_info": {
   "codemirror_mode": {
    "name": "ipython",
    "version": 3
   },
   "file_extension": ".py",
   "mimetype": "text/x-python",
   "name": "python",
   "nbconvert_exporter": "python",
   "pygments_lexer": "ipython3",
   "version": "3.7.16"
  }
 },
 "nbformat": 4,
 "nbformat_minor": 5
}
