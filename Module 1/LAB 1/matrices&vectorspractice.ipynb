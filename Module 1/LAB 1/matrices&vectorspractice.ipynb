{
 "cells": [
  {
   "cell_type": "code",
   "execution_count": 1,
   "id": "b63ca1cb",
   "metadata": {},
   "outputs": [],
   "source": [
    "import numpy as np"
   ]
  },
  {
   "cell_type": "markdown",
   "id": "6bce3062",
   "metadata": {},
   "source": [
    "#### Compute the scalar product of two vectors\n",
    "a vector is a dot/scalar product \n",
    "we can calculate it this way: a · b = ax × bx + ay × by"
   ]
  },
  {
   "cell_type": "code",
   "execution_count": 3,
   "id": "29a45ddf",
   "metadata": {},
   "outputs": [
    {
     "data": {
      "text/plain": [
       "18"
      ]
     },
     "execution_count": 3,
     "metadata": {},
     "output_type": "execute_result"
    }
   ],
   "source": [
    "a = [-18, 9]\n",
    "b = [9, 20]\n",
    "np.dot(a,b)"
   ]
  },
  {
   "cell_type": "code",
   "execution_count": 4,
   "id": "06a75301",
   "metadata": {},
   "outputs": [
    {
     "data": {
      "text/plain": [
       "-162"
      ]
     },
     "execution_count": 4,
     "metadata": {},
     "output_type": "execute_result"
    }
   ],
   "source": [
    "-18 * 9"
   ]
  },
  {
   "cell_type": "code",
   "execution_count": 5,
   "id": "4c8c581f",
   "metadata": {},
   "outputs": [
    {
     "data": {
      "text/plain": [
       "180"
      ]
     },
     "execution_count": 5,
     "metadata": {},
     "output_type": "execute_result"
    }
   ],
   "source": [
    "9 * 20"
   ]
  },
  {
   "cell_type": "code",
   "execution_count": 6,
   "id": "e599bd63",
   "metadata": {},
   "outputs": [
    {
     "data": {
      "text/plain": [
       "18"
      ]
     },
     "execution_count": 6,
     "metadata": {},
     "output_type": "execute_result"
    }
   ],
   "source": [
    "-162 + 180"
   ]
  },
  {
   "cell_type": "markdown",
   "id": "a2ae8b34",
   "metadata": {},
   "source": [
    "#### Compute the cross product of two vectors\n",
    "When a and b start at the origin point (0,0,0), the Cross Product will end at:\n",
    "cx = aybz − azby, \n",
    "cy = azbx − axbz, \n",
    "cz = axby − aybx"
   ]
  },
  {
   "cell_type": "code",
   "execution_count": 11,
   "id": "6fe48a4c",
   "metadata": {},
   "outputs": [],
   "source": [
    "a = np.array([[1,2,3],[4,5,6]])\n",
    "b = np.array([[4,5,6], [1,2,3]])"
   ]
  },
  {
   "cell_type": "code",
   "execution_count": 12,
   "id": "175ab4b4",
   "metadata": {},
   "outputs": [
    {
     "data": {
      "text/plain": [
       "array([[-3,  6, -3],\n",
       "       [ 3, -6,  3]])"
      ]
     },
     "execution_count": 12,
     "metadata": {},
     "output_type": "execute_result"
    }
   ],
   "source": [
    "np.cross(a,b)"
   ]
  },
  {
   "cell_type": "code",
   "execution_count": 13,
   "id": "76b171a9",
   "metadata": {},
   "outputs": [
    {
     "data": {
      "text/plain": [
       "-3"
      ]
     },
     "execution_count": 13,
     "metadata": {},
     "output_type": "execute_result"
    }
   ],
   "source": [
    "#first vector ay x bz - az x by\n",
    "2 * 6 - 3 * 5"
   ]
  },
  {
   "cell_type": "code",
   "execution_count": 14,
   "id": "6abbecdf",
   "metadata": {},
   "outputs": [
    {
     "data": {
      "text/plain": [
       "6"
      ]
     },
     "execution_count": 14,
     "metadata": {},
     "output_type": "execute_result"
    }
   ],
   "source": [
    "# az x bx - ax x bz\n",
    "3 * 4 - 1 * 6"
   ]
  },
  {
   "cell_type": "code",
   "execution_count": 15,
   "id": "979fc0b0",
   "metadata": {},
   "outputs": [
    {
     "data": {
      "text/plain": [
       "-3"
      ]
     },
     "execution_count": 15,
     "metadata": {},
     "output_type": "execute_result"
    }
   ],
   "source": [
    "# ax x by - ay x bx\n",
    "1 * 5 - 2 * 4"
   ]
  },
  {
   "cell_type": "code",
   "execution_count": 16,
   "id": "9da43293",
   "metadata": {},
   "outputs": [
    {
     "data": {
      "text/plain": [
       "3"
      ]
     },
     "execution_count": 16,
     "metadata": {},
     "output_type": "execute_result"
    }
   ],
   "source": [
    "#second vector ay x bz - az x by\n",
    "5 * 3 - 6 * 2"
   ]
  },
  {
   "cell_type": "code",
   "execution_count": 17,
   "id": "921bbef5",
   "metadata": {},
   "outputs": [
    {
     "data": {
      "text/plain": [
       "-6"
      ]
     },
     "execution_count": 17,
     "metadata": {},
     "output_type": "execute_result"
    }
   ],
   "source": [
    "# az x bx - ax x bz\n",
    "6 * 1 - 4 * 3"
   ]
  },
  {
   "cell_type": "code",
   "execution_count": 18,
   "id": "0e762136",
   "metadata": {},
   "outputs": [
    {
     "data": {
      "text/plain": [
       "3"
      ]
     },
     "execution_count": 18,
     "metadata": {},
     "output_type": "execute_result"
    }
   ],
   "source": [
    "# ax x by - ay x bx\n",
    "4 * 2 - 5 * 1"
   ]
  },
  {
   "cell_type": "markdown",
   "id": "cac51ead",
   "metadata": {},
   "source": [
    "#### Compute the Hadamard product (entry-wise multiplication) of two vectors."
   ]
  },
  {
   "cell_type": "markdown",
   "id": "573b870b",
   "metadata": {},
   "source": [
    "In mathematics, the Hadamard product (also known as the Schur product[1] or the entrywise product[2]:ch. 5) is a binary operation that takes two matrices of the same dimensions and produces another matrix of the same dimension as the operands where each element i, j is the product of elements i, j of the original two matrices."
   ]
  },
  {
   "cell_type": "code",
   "execution_count": 19,
   "id": "ac977053",
   "metadata": {},
   "outputs": [
    {
     "data": {
      "text/plain": [
       "array([[ 5, 12],\n",
       "       [21, 32]])"
      ]
     },
     "execution_count": 19,
     "metadata": {},
     "output_type": "execute_result"
    }
   ],
   "source": [
    "a = np.array([[1,2],\n",
    "             [3,4]])\n",
    "b = np.array([[5,6],\n",
    "              [7,8]])\n",
    "np.multiply(a,b)"
   ]
  },
  {
   "cell_type": "code",
   "execution_count": 20,
   "id": "67614540",
   "metadata": {},
   "outputs": [
    {
     "data": {
      "text/plain": [
       "5"
      ]
     },
     "execution_count": 20,
     "metadata": {},
     "output_type": "execute_result"
    }
   ],
   "source": [
    "1 * 5 "
   ]
  },
  {
   "cell_type": "code",
   "execution_count": 21,
   "id": "f5a21cbd",
   "metadata": {},
   "outputs": [
    {
     "data": {
      "text/plain": [
       "12"
      ]
     },
     "execution_count": 21,
     "metadata": {},
     "output_type": "execute_result"
    }
   ],
   "source": [
    "2 * 6"
   ]
  },
  {
   "cell_type": "code",
   "execution_count": 22,
   "id": "bcb64a89",
   "metadata": {},
   "outputs": [
    {
     "data": {
      "text/plain": [
       "21"
      ]
     },
     "execution_count": 22,
     "metadata": {},
     "output_type": "execute_result"
    }
   ],
   "source": [
    "3 * 7"
   ]
  },
  {
   "cell_type": "code",
   "execution_count": 23,
   "id": "7d6e8a7e",
   "metadata": {},
   "outputs": [
    {
     "data": {
      "text/plain": [
       "32"
      ]
     },
     "execution_count": 23,
     "metadata": {},
     "output_type": "execute_result"
    }
   ],
   "source": [
    "4 * 8"
   ]
  },
  {
   "cell_type": "markdown",
   "id": "8eaafccd",
   "metadata": {},
   "source": [
    "#### Compute the sum of two matrices."
   ]
  },
  {
   "cell_type": "code",
   "execution_count": 35,
   "id": "b56e9053",
   "metadata": {},
   "outputs": [],
   "source": [
    "X = [[12,7,3],\n",
    "     [4,5,6],\n",
    "     [7,8,9]]\n",
    "\n",
    "Y = [[5,8,1],\n",
    "     [6,7,8],\n",
    "     [4,5,9]]\n",
    "\n",
    "result = [[0,0,0],\n",
    "          [0,0,0],\n",
    "          [0,0,0]]"
   ]
  },
  {
   "cell_type": "code",
   "execution_count": 36,
   "id": "23c16303",
   "metadata": {},
   "outputs": [],
   "source": [
    "# X is 3 x 3\n",
    "# Y is 3 x 3\n",
    "# Results of XY is 3x3 matrix\n",
    "\n",
    "for i in range(len(X)):  # iterate through rows of X \n",
    "   for j in range(len(Y[0])):  # iterate through cols of Y \n",
    "       for k in range(len(Y)):  # iterate through rows of Y \n",
    "           result[i][j] += X[i][k] * Y[k][j]  "
   ]
  },
  {
   "cell_type": "code",
   "execution_count": 37,
   "id": "c9b058e9",
   "metadata": {},
   "outputs": [
    {
     "name": "stdout",
     "output_type": "stream",
     "text": [
      "[[114, 160, 95], [74, 97, 98], [119, 157, 152]]\n"
     ]
    }
   ],
   "source": [
    "print(result)"
   ]
  },
  {
   "cell_type": "code",
   "execution_count": 42,
   "id": "90c4119e",
   "metadata": {},
   "outputs": [
    {
     "data": {
      "text/plain": [
       "114"
      ]
     },
     "execution_count": 42,
     "metadata": {},
     "output_type": "execute_result"
    }
   ],
   "source": [
    "#result[0][0] \n",
    "12 * 5 + 7 * 6 + 3 * 4"
   ]
  },
  {
   "cell_type": "code",
   "execution_count": 43,
   "id": "1b586a42",
   "metadata": {},
   "outputs": [
    {
     "data": {
      "text/plain": [
       "160"
      ]
     },
     "execution_count": 43,
     "metadata": {},
     "output_type": "execute_result"
    }
   ],
   "source": [
    "#result[0][1]\n",
    "12 * 8 + 7 * 7 + 3 * 5 "
   ]
  },
  {
   "cell_type": "code",
   "execution_count": 44,
   "id": "06dc5774",
   "metadata": {},
   "outputs": [
    {
     "data": {
      "text/plain": [
       "95"
      ]
     },
     "execution_count": 44,
     "metadata": {},
     "output_type": "execute_result"
    }
   ],
   "source": [
    "#result[0][2]\n",
    "12 * 1 + 7 * 8 + 3 * 9"
   ]
  },
  {
   "cell_type": "code",
   "execution_count": 45,
   "id": "13411186",
   "metadata": {},
   "outputs": [
    {
     "data": {
      "text/plain": [
       "74"
      ]
     },
     "execution_count": 45,
     "metadata": {},
     "output_type": "execute_result"
    }
   ],
   "source": [
    "#result[1][0]\n",
    "4 * 5 + 5 * 6 + 6 * 4"
   ]
  },
  {
   "cell_type": "code",
   "execution_count": 46,
   "id": "042470eb",
   "metadata": {},
   "outputs": [
    {
     "data": {
      "text/plain": [
       "97"
      ]
     },
     "execution_count": 46,
     "metadata": {},
     "output_type": "execute_result"
    }
   ],
   "source": [
    "#result[1][1]\n",
    "4 * 8 + 5 * 7 + 6 * 5"
   ]
  },
  {
   "cell_type": "code",
   "execution_count": 47,
   "id": "7f24e741",
   "metadata": {},
   "outputs": [
    {
     "data": {
      "text/plain": [
       "98"
      ]
     },
     "execution_count": 47,
     "metadata": {},
     "output_type": "execute_result"
    }
   ],
   "source": [
    "#result[1][2]\n",
    "4 * 1 + 5 * 8 + 6 * 9"
   ]
  },
  {
   "cell_type": "code",
   "execution_count": 48,
   "id": "aca7a662",
   "metadata": {},
   "outputs": [
    {
     "data": {
      "text/plain": [
       "119"
      ]
     },
     "execution_count": 48,
     "metadata": {},
     "output_type": "execute_result"
    }
   ],
   "source": [
    "#result[2][0]\n",
    "7 * 5 + 8 * 6 + 9 * 4"
   ]
  },
  {
   "cell_type": "code",
   "execution_count": 49,
   "id": "05301334",
   "metadata": {},
   "outputs": [
    {
     "data": {
      "text/plain": [
       "157"
      ]
     },
     "execution_count": 49,
     "metadata": {},
     "output_type": "execute_result"
    }
   ],
   "source": [
    "#result[2][1]\n",
    "7 * 8 + 8 * 7 + 9 * 5"
   ]
  },
  {
   "cell_type": "code",
   "execution_count": 50,
   "id": "73946fda",
   "metadata": {},
   "outputs": [
    {
     "data": {
      "text/plain": [
       "152"
      ]
     },
     "execution_count": 50,
     "metadata": {},
     "output_type": "execute_result"
    }
   ],
   "source": [
    "#result[2][2]\n",
    "7 * 1 + 8 * 8 + 9 * 9"
   ]
  },
  {
   "cell_type": "markdown",
   "id": "4b865738",
   "metadata": {},
   "source": [
    "    result[0][0] = X[0][0] + Y[0][0] = 12 + 5 = 17\n",
    "\n",
    "    result[0][1] = X[0][1] + Y[0][1] = 7 + 8 = 15\n",
    "\n",
    "    result[0][2] = X[0][2] + Y[0][2] = 3 + 1 = 4\n",
    "\n",
    "    result[1][0] = X[1][0] + Y[1][0] = 4 + 6 = 10\n",
    "\n",
    "    result[1][1] = X[1][1] + Y[1][1] = 5 + 7 = 12\n",
    "\n",
    "    result[1][2] = X[1][2] + Y[1][2] = 6 + 8 = 14\n",
    "\n",
    "    result[2][0] = X[2][0] + Y[2][0] = 7 + 4 = 11\n",
    "\n",
    "    result[2][1] = X[2][1] + Y[2][1] = 8 + 5 = 13\n",
    "\n",
    "    result[2][2] = X[2][2] + Y[2][2] = 9 + 9 = 18"
   ]
  },
  {
   "cell_type": "code",
   "execution_count": 51,
   "id": "bb91dd5a",
   "metadata": {},
   "outputs": [
    {
     "data": {
      "text/plain": [
       "array([[17, 15,  4],\n",
       "       [10, 12, 14],\n",
       "       [11, 13, 18]])"
      ]
     },
     "execution_count": 51,
     "metadata": {},
     "output_type": "execute_result"
    }
   ],
   "source": [
    "np.add(X, Y)"
   ]
  },
  {
   "cell_type": "code",
   "execution_count": 52,
   "id": "ca74085f",
   "metadata": {},
   "outputs": [
    {
     "name": "stdout",
     "output_type": "stream",
     "text": [
      "[[17], [15], [4], [10], [12], [14], [11], [13], [18]]\n"
     ]
    }
   ],
   "source": [
    "result = [[X[i][j] + Y[i][j]] for i in range(len(X)) for j in range(len(Y[0]))]\n",
    "\n",
    "print(result)"
   ]
  },
  {
   "cell_type": "code",
   "execution_count": 53,
   "id": "4db9e0e8",
   "metadata": {},
   "outputs": [
    {
     "data": {
      "text/plain": [
       "array([[17],\n",
       "       [15],\n",
       "       [ 4],\n",
       "       [10],\n",
       "       [12],\n",
       "       [14],\n",
       "       [11],\n",
       "       [13],\n",
       "       [18]])"
      ]
     },
     "execution_count": 53,
     "metadata": {},
     "output_type": "execute_result"
    }
   ],
   "source": [
    "np.array(result)"
   ]
  },
  {
   "cell_type": "code",
   "execution_count": 54,
   "id": "7042c721",
   "metadata": {},
   "outputs": [
    {
     "data": {
      "text/plain": [
       "array([[17],\n",
       "       [15],\n",
       "       [ 4],\n",
       "       [10],\n",
       "       [12],\n",
       "       [14],\n",
       "       [11],\n",
       "       [13],\n",
       "       [18]])"
      ]
     },
     "execution_count": 54,
     "metadata": {},
     "output_type": "execute_result"
    }
   ],
   "source": [
    "np.array(result)"
   ]
  },
  {
   "cell_type": "markdown",
   "id": "80446907",
   "metadata": {},
   "source": [
    "#### Compute the product of two matrices."
   ]
  },
  {
   "cell_type": "code",
   "execution_count": 55,
   "id": "ad5c2f1e",
   "metadata": {},
   "outputs": [
    {
     "name": "stdout",
     "output_type": "stream",
     "text": [
      "[[114, 160, 60, 27], [74, 97, 73, 14], [119, 157, 112, 23]]\n"
     ]
    }
   ],
   "source": [
    "# Program to multiply two matrices using nested loops\n",
    "\n",
    "# 3x3 matrix\n",
    "X = [[12,7,3],\n",
    "    [4 ,5,6],\n",
    "    [7 ,8,9]]\n",
    "\n",
    "# 3x4 matrix\n",
    "Y = [[5,8,1,2],\n",
    "    [6,7,3,0],\n",
    "    [4,5,9,1]]\n",
    "\n",
    "# result is 3x4\n",
    "result = [[0,0,0,0],\n",
    "         [0,0,0,0],\n",
    "         [0,0,0,0]]\n",
    "\n",
    "#X is 3 x 3, #Y is 3 x 3 matrix\n",
    "#result of XY is 3 x 3 matrix.\n",
    " \n",
    "for i in range(len(X)):  # iterate through rows of X \n",
    "   for j in range(len(Y[0])):  # iterate through cols of Y \n",
    "       for k in range(len(Y)):  # iterate through rows of Y \n",
    "           result[i][j] += X[i][k] * Y[k][j]  \n",
    "\n",
    "print(result)"
   ]
  },
  {
   "cell_type": "code",
   "execution_count": 56,
   "id": "6203e8f5",
   "metadata": {},
   "outputs": [
    {
     "data": {
      "text/plain": [
       "array([[114, 160,  60,  27],\n",
       "       [ 74,  97,  73,  14],\n",
       "       [119, 157, 112,  23]])"
      ]
     },
     "execution_count": 56,
     "metadata": {},
     "output_type": "execute_result"
    }
   ],
   "source": [
    "np.dot(X,Y)"
   ]
  },
  {
   "cell_type": "code",
   "execution_count": 57,
   "id": "5d856522",
   "metadata": {},
   "outputs": [
    {
     "data": {
      "text/plain": [
       "array([[114, 160,  60,  27],\n",
       "       [ 74,  97,  73,  14],\n",
       "       [119, 157, 112,  23]])"
      ]
     },
     "execution_count": 57,
     "metadata": {},
     "output_type": "execute_result"
    }
   ],
   "source": [
    "np.array(result)"
   ]
  },
  {
   "cell_type": "markdown",
   "id": "1501094b",
   "metadata": {},
   "source": [
    "#### Compute the determinant of an n x n matrix."
   ]
  },
  {
   "cell_type": "code",
   "execution_count": 58,
   "id": "ba9a495b",
   "metadata": {},
   "outputs": [
    {
     "name": "stdout",
     "output_type": "stream",
     "text": [
      "17.999999999999996\n"
     ]
    }
   ],
   "source": [
    "matrix = [[-2,2,-3],[-1,1,3],[2,0,-1]]\n",
    "det = np.linalg.det(matrix)\n",
    "print(det)"
   ]
  },
  {
   "cell_type": "markdown",
   "id": "12f30727",
   "metadata": {},
   "source": [
    "##### the determinant helps us understand how a matrix changes the size and orientation of shapes or vectors in space, and it's a crucial concept in various areas of mathematics and science.\n",
    "\n",
    "If the determinant is positive, it means the matrix scales the space, making it larger or smaller. If it's negative, it means the matrix not only scales but also flips the space.\n",
    "\n",
    "Invertibility: If the determinant is not zero, it means the matrix has an \"inverse,\" which is like the opposite of the matrix. You can use the inverse to undo the effects of the matrix transformation.\n",
    "\n",
    "##### Whether a positive or negative determinant is considered \"good\" depends on the context and what you want to achieve with the matrix transformation:\n",
    "\n",
    "    Positive Determinant (Scaling with Orientation Preservation):\n",
    "        A positive determinant indicates that the matrix scales the space either by enlarging it or shrinking it. This is often associated with preserving the orientation of shapes.\n",
    "        In many applications, such as computer graphics, engineering, and physics, a positive determinant is desirable because it means that the transformation maintains the orientation of objects, which is often a desired property.\n",
    "\n",
    "    Negative Determinant (Scaling with Orientation Reversal):\n",
    "        A negative determinant indicates that the matrix not only scales the space but also flips it or changes its orientation. This can be useful in certain situations.\n",
    "        For example, in computer graphics, a negative determinant might be used intentionally to create a mirrored or reflected version of an object.\n",
    "\n",
    "In summary, whether a positive or negative determinant is \"good\" depends on the specific goals of the transformation. Positive determinants are often associated with orientation-preserving transformations, while negative determinants imply orientation-reversal or reflection. The choice of determinant sign depends on the desired outcome and the problem being solved."
   ]
  },
  {
   "cell_type": "markdown",
   "id": "88ae4766",
   "metadata": {},
   "source": [
    "#### Compute the inverse of an n x n matrix.\n",
    "\n",
    "For a 3×3 matrix\n",
    "\n",
    "![](http://mathworld.wolfram.com/images/equations/MatrixInverse/NumberedEquation3.gif)\n",
    "\n",
    "the matrix inverse is\n",
    "\n",
    "![](http://mathworld.wolfram.com/images/equations/MatrixInverse/NumberedEquation4.gif)\n",
    "\n",
    "Hint: Use \n",
    "> from numpy.linalg import inv"
   ]
  },
  {
   "cell_type": "code",
   "execution_count": 60,
   "id": "af6e182d",
   "metadata": {},
   "outputs": [],
   "source": [
    "from numpy.linalg import inv\n",
    "a = np.array([[1., 2.], [3., 4.]])\n",
    "ainv = inv(a)"
   ]
  },
  {
   "cell_type": "code",
   "execution_count": 61,
   "id": "2f5c4a90",
   "metadata": {},
   "outputs": [
    {
     "data": {
      "text/plain": [
       "array([[-2. ,  1. ],\n",
       "       [ 1.5, -0.5]])"
      ]
     },
     "execution_count": 61,
     "metadata": {},
     "output_type": "execute_result"
    }
   ],
   "source": [
    "ainv"
   ]
  },
  {
   "cell_type": "markdown",
   "id": "ca682ad9",
   "metadata": {},
   "source": [
    "###### The variable ainv will contain the inverse of the matrix a. The inverse matrix allows you to undo the effects of the original matrix when performing matrix multiplication. \n",
    "However, not all matrices have inverses, and it's essential to check the determinant of the matrix before attempting to calculate its inverse to ensure it's non-singular (i.e., its determinant is not zero)."
   ]
  },
  {
   "cell_type": "code",
   "execution_count": null,
   "id": "e7a99087",
   "metadata": {},
   "outputs": [],
   "source": []
  }
 ],
 "metadata": {
  "kernelspec": {
   "display_name": "Python 3 (ipykernel)",
   "language": "python",
   "name": "python3"
  },
  "language_info": {
   "codemirror_mode": {
    "name": "ipython",
    "version": 3
   },
   "file_extension": ".py",
   "mimetype": "text/x-python",
   "name": "python",
   "nbconvert_exporter": "python",
   "pygments_lexer": "ipython3",
   "version": "3.7.16"
  }
 },
 "nbformat": 4,
 "nbformat_minor": 5
}
