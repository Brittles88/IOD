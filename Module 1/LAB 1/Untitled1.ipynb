{
 "cells": [
  {
   "cell_type": "code",
   "execution_count": 2,
   "id": "049710bb-77eb-4c31-ab0a-35792acd6ef8",
   "metadata": {},
   "outputs": [],
   "source": [
    "import numpy as np"
   ]
  },
  {
   "cell_type": "code",
   "execution_count": 3,
   "id": "f3a447c3-52ad-41bd-91af-406ad03fc910",
   "metadata": {},
   "outputs": [],
   "source": [
    "arr = np.array([33,454,34,56,34,67,43])"
   ]
  },
  {
   "cell_type": "code",
   "execution_count": 5,
   "id": "a0ad35fb-2264-4de6-b072-a592b244e0b9",
   "metadata": {},
   "outputs": [
    {
     "data": {
      "text/plain": [
       "array([ 33, 454,  34,  56,  34,  67,  43])"
      ]
     },
     "execution_count": 5,
     "metadata": {},
     "output_type": "execute_result"
    }
   ],
   "source": [
    "arr.transpose()"
   ]
  },
  {
   "cell_type": "code",
   "execution_count": 12,
   "id": "d1e560bc-05c5-4753-bead-67631dbbdde4",
   "metadata": {},
   "outputs": [],
   "source": [
    "arr = np.arange(60).reshape(6,5,2)"
   ]
  },
  {
   "cell_type": "code",
   "execution_count": 13,
   "id": "d02d16db-4b0f-4041-949b-ae5dd62c2966",
   "metadata": {},
   "outputs": [
    {
     "data": {
      "text/plain": [
       "array([[[ 0, 10, 20, 30, 40, 50],\n",
       "        [ 2, 12, 22, 32, 42, 52],\n",
       "        [ 4, 14, 24, 34, 44, 54],\n",
       "        [ 6, 16, 26, 36, 46, 56],\n",
       "        [ 8, 18, 28, 38, 48, 58]],\n",
       "\n",
       "       [[ 1, 11, 21, 31, 41, 51],\n",
       "        [ 3, 13, 23, 33, 43, 53],\n",
       "        [ 5, 15, 25, 35, 45, 55],\n",
       "        [ 7, 17, 27, 37, 47, 57],\n",
       "        [ 9, 19, 29, 39, 49, 59]]])"
      ]
     },
     "execution_count": 13,
     "metadata": {},
     "output_type": "execute_result"
    }
   ],
   "source": [
    "arr.transpose()"
   ]
  },
  {
   "cell_type": "code",
   "execution_count": null,
   "id": "52c5d9da-a957-4341-95da-366d7bb6a10c",
   "metadata": {},
   "outputs": [],
   "source": []
  }
 ],
 "metadata": {
  "kernelspec": {
   "display_name": "Python 3 (ipykernel)",
   "language": "python",
   "name": "python3"
  },
  "language_info": {
   "codemirror_mode": {
    "name": "ipython",
    "version": 3
   },
   "file_extension": ".py",
   "mimetype": "text/x-python",
   "name": "python",
   "nbconvert_exporter": "python",
   "pygments_lexer": "ipython3",
   "version": "3.7.16"
  }
 },
 "nbformat": 4,
 "nbformat_minor": 5
}
