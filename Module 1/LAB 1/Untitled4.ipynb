{
 "cells": [
  {
   "cell_type": "code",
   "execution_count": 1,
   "id": "beb4915c-7869-4180-bc96-ab9666c9d94e",
   "metadata": {},
   "outputs": [],
   "source": [
    "import pandas as pd\n",
    "import numpy as np"
   ]
  },
  {
   "cell_type": "code",
   "execution_count": 10,
   "id": "e320073b-601c-428e-b4f2-bd8ffe9d91a0",
   "metadata": {},
   "outputs": [],
   "source": [
    "my_series = pd.Series({'London':10, 'Tripoli':100, 'Cairo':10})"
   ]
  },
  {
   "cell_type": "code",
   "execution_count": 11,
   "id": "e0ca1192-a490-41cf-9b5a-ab603af423c4",
   "metadata": {},
   "outputs": [
    {
     "data": {
      "text/plain": [
       "London      10\n",
       "Tripoli    100\n",
       "Cairo       10\n",
       "dtype: int64"
      ]
     },
     "execution_count": 11,
     "metadata": {},
     "output_type": "execute_result"
    }
   ],
   "source": [
    "my_series"
   ]
  },
  {
   "cell_type": "code",
   "execution_count": 12,
   "id": "2ff4da80-1a44-4be9-91ef-024506a5d68d",
   "metadata": {},
   "outputs": [
    {
     "data": {
      "text/plain": [
       "10"
      ]
     },
     "execution_count": 12,
     "metadata": {},
     "output_type": "execute_result"
    }
   ],
   "source": [
    "my_series['London']"
   ]
  },
  {
   "cell_type": "code",
   "execution_count": 13,
   "id": "0dd44109-b730-4ed0-9217-9ce4708d2b95",
   "metadata": {},
   "outputs": [
    {
     "data": {
      "text/plain": [
       "Tripoli    100\n",
       "dtype: int64"
      ]
     },
     "execution_count": 13,
     "metadata": {},
     "output_type": "execute_result"
    }
   ],
   "source": [
    "my_series[my_series > 10]"
   ]
  },
  {
   "cell_type": "code",
   "execution_count": 24,
   "id": "8b800805-2dea-4775-992e-77f097f796bc",
   "metadata": {},
   "outputs": [],
   "source": [
    "arr = np.array([[1,2,3], [4,5,6]])\n",
    "df = pd.DataFrame(arr,columns=['col 1', 'col 2', 'col 3'])"
   ]
  },
  {
   "cell_type": "code",
   "execution_count": 25,
   "id": "48d1977f-5a22-4823-96c7-5b98f8317bd5",
   "metadata": {},
   "outputs": [
    {
     "data": {
      "text/html": [
       "<div>\n",
       "<style scoped>\n",
       "    .dataframe tbody tr th:only-of-type {\n",
       "        vertical-align: middle;\n",
       "    }\n",
       "\n",
       "    .dataframe tbody tr th {\n",
       "        vertical-align: top;\n",
       "    }\n",
       "\n",
       "    .dataframe thead th {\n",
       "        text-align: right;\n",
       "    }\n",
       "</style>\n",
       "<table border=\"1\" class=\"dataframe\">\n",
       "  <thead>\n",
       "    <tr style=\"text-align: right;\">\n",
       "      <th></th>\n",
       "      <th>col 1</th>\n",
       "      <th>col 2</th>\n",
       "      <th>col 3</th>\n",
       "    </tr>\n",
       "  </thead>\n",
       "  <tbody>\n",
       "    <tr>\n",
       "      <th>0</th>\n",
       "      <td>1</td>\n",
       "      <td>2</td>\n",
       "      <td>3</td>\n",
       "    </tr>\n",
       "    <tr>\n",
       "      <th>1</th>\n",
       "      <td>4</td>\n",
       "      <td>5</td>\n",
       "      <td>6</td>\n",
       "    </tr>\n",
       "  </tbody>\n",
       "</table>\n",
       "</div>"
      ],
      "text/plain": [
       "   col 1  col 2  col 3\n",
       "0      1      2      3\n",
       "1      4      5      6"
      ]
     },
     "execution_count": 25,
     "metadata": {},
     "output_type": "execute_result"
    }
   ],
   "source": [
    "df"
   ]
  },
  {
   "cell_type": "code",
   "execution_count": 21,
   "id": "61b1d663-10ff-4283-b39b-d3ca75cfe565",
   "metadata": {},
   "outputs": [
    {
     "data": {
      "text/plain": [
       "0    3\n",
       "1    6\n",
       "Name: 2, dtype: int32"
      ]
     },
     "execution_count": 21,
     "metadata": {},
     "output_type": "execute_result"
    }
   ],
   "source": [
    "df[2]"
   ]
  },
  {
   "cell_type": "code",
   "execution_count": 26,
   "id": "81f724b1-237f-4512-bd95-322104284435",
   "metadata": {},
   "outputs": [
    {
     "data": {
      "text/plain": [
       "Index(['col 1', 'col 2', 'col 3'], dtype='object')"
      ]
     },
     "execution_count": 26,
     "metadata": {},
     "output_type": "execute_result"
    }
   ],
   "source": [
    "df.columns"
   ]
  },
  {
   "cell_type": "code",
   "execution_count": 27,
   "id": "0ba30877-9c94-4974-b870-13df8dd80fc3",
   "metadata": {},
   "outputs": [
    {
     "data": {
      "text/plain": [
       "0    2\n",
       "1    5\n",
       "Name: col 2, dtype: int32"
      ]
     },
     "execution_count": 27,
     "metadata": {},
     "output_type": "execute_result"
    }
   ],
   "source": [
    "df['col 2']"
   ]
  },
  {
   "cell_type": "code",
   "execution_count": null,
   "id": "af754e78-6f9a-4057-8029-660ad51f4ad0",
   "metadata": {},
   "outputs": [],
   "source": []
  }
 ],
 "metadata": {
  "kernelspec": {
   "display_name": "Python 3 (ipykernel)",
   "language": "python",
   "name": "python3"
  },
  "language_info": {
   "codemirror_mode": {
    "name": "ipython",
    "version": 3
   },
   "file_extension": ".py",
   "mimetype": "text/x-python",
   "name": "python",
   "nbconvert_exporter": "python",
   "pygments_lexer": "ipython3",
   "version": "3.7.16"
  }
 },
 "nbformat": 4,
 "nbformat_minor": 5
}
