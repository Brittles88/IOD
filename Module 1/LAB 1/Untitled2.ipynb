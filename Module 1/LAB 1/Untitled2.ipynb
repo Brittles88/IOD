{
 "cells": [
  {
   "cell_type": "code",
   "execution_count": 1,
   "id": "d33ef592-6b61-40ac-8676-f53d95bc3c84",
   "metadata": {},
   "outputs": [],
   "source": [
    "import numpy as np"
   ]
  },
  {
   "cell_type": "code",
   "execution_count": 6,
   "id": "0c904d49-6d47-4f51-a5c1-0f44c86c3e8d",
   "metadata": {},
   "outputs": [],
   "source": [
    "arr = np.random.randn(4,5)"
   ]
  },
  {
   "cell_type": "code",
   "execution_count": 7,
   "id": "0210311e-4f0a-4ddb-b38f-e2081b84816d",
   "metadata": {},
   "outputs": [
    {
     "data": {
      "text/plain": [
       "array([[ 1.23607291, -0.95439318, -0.72883744,  0.18557968, -0.78974586],\n",
       "       [ 1.03548669, -2.07223131,  0.38509515, -0.02831301, -0.5690189 ],\n",
       "       [ 1.16050381,  0.87154405,  0.45446349,  0.05735755, -1.92074034],\n",
       "       [-1.61008832,  0.77249479,  0.55892082,  0.40306635, -1.85420993]])"
      ]
     },
     "execution_count": 7,
     "metadata": {},
     "output_type": "execute_result"
    }
   ],
   "source": [
    "arr"
   ]
  },
  {
   "cell_type": "code",
   "execution_count": 8,
   "id": "df0ca0c1-8be0-479f-b80c-f82c24dba34f",
   "metadata": {},
   "outputs": [
    {
     "data": {
      "text/plain": [
       "1.0997236574391338"
      ]
     },
     "execution_count": 8,
     "metadata": {},
     "output_type": "execute_result"
    }
   ],
   "source": [
    "arr.var()"
   ]
  },
  {
   "cell_type": "code",
   "execution_count": 11,
   "id": "56ba7180-af86-4be3-885f-16ceac318634",
   "metadata": {},
   "outputs": [
    {
     "data": {
      "text/plain": [
       "array([[1.23607291, 0.        , 0.        , 0.18557968, 0.        ],\n",
       "       [1.03548669, 0.        , 0.38509515, 0.        , 0.        ],\n",
       "       [1.16050381, 0.87154405, 0.45446349, 0.05735755, 0.        ],\n",
       "       [0.        , 0.77249479, 0.55892082, 0.40306635, 0.        ]])"
      ]
     },
     "execution_count": 11,
     "metadata": {},
     "output_type": "execute_result"
    }
   ],
   "source": [
    "np.where(arr < 0,0,arr)"
   ]
  },
  {
   "cell_type": "code",
   "execution_count": 14,
   "id": "faad493c-f32e-4291-8905-bf608c9ada1d",
   "metadata": {},
   "outputs": [],
   "source": [
    "arr.sort()"
   ]
  },
  {
   "cell_type": "code",
   "execution_count": 15,
   "id": "8cbad1b6-df3a-45fb-8326-4e7c458ff9a5",
   "metadata": {},
   "outputs": [
    {
     "data": {
      "text/plain": [
       "array([[-0.95439318, -0.78974586, -0.72883744,  0.18557968,  1.23607291],\n",
       "       [-2.07223131, -0.5690189 , -0.02831301,  0.38509515,  1.03548669],\n",
       "       [-1.92074034,  0.05735755,  0.45446349,  0.87154405,  1.16050381],\n",
       "       [-1.85420993, -1.61008832,  0.40306635,  0.55892082,  0.77249479]])"
      ]
     },
     "execution_count": 15,
     "metadata": {},
     "output_type": "execute_result"
    }
   ],
   "source": [
    "arr"
   ]
  },
  {
   "cell_type": "code",
   "execution_count": null,
   "id": "9f4041ec-be41-4ffe-b1d2-1166f36e5cea",
   "metadata": {},
   "outputs": [],
   "source": []
  }
 ],
 "metadata": {
  "kernelspec": {
   "display_name": "Python 3 (ipykernel)",
   "language": "python",
   "name": "python3"
  },
  "language_info": {
   "codemirror_mode": {
    "name": "ipython",
    "version": 3
   },
   "file_extension": ".py",
   "mimetype": "text/x-python",
   "name": "python",
   "nbconvert_exporter": "python",
   "pygments_lexer": "ipython3",
   "version": "3.7.16"
  }
 },
 "nbformat": 4,
 "nbformat_minor": 5
}
